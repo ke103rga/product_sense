{
 "cells": [
  {
   "cell_type": "markdown",
   "metadata": {},
   "source": []
  },
  {
   "cell_type": "markdown",
   "metadata": {},
   "source": [
    "# Введение"
   ]
  },
  {
   "cell_type": "markdown",
   "metadata": {},
   "source": [
    "### Задача\n",
    "Онлайн-курсы в настоящее время весьма популярны, однако среди большого числа людей, которые начинают обучение, многие покидают курс и не заканчивают его. Задачей настоящего исследования является понимание причин этой тенденции и изучение поведения пользователя в первые дни обучения для прогнозирования того, завершит ли он курс в дальнейшем.\n",
    "\n",
    "### Актуальность исследования\n",
    "Актуальность данного исследования обусловлена растущей популярностью онлайн-образования и необходимостью повышения качества учебного процесса. Высокий уровень оттока пользователей из курсов может негативно сказываться как на эффективности учебных программ, так и на финансовых результатах платформ, предлагающих такие курсы. Понимание причин, по которым студенты покидают курсы, позволит разработать более эффективные стратегии удержания и повышения вовлеченности, что, в свою очередь, приведет к улучшению результатов обучения и удовлетворенности студентов.\n",
    "\n",
    "### Потенциальная польза\n",
    "Исследование может стать важным инструментом для разработчиков и преподавателей онлайн-курсов, позволяя им:\n",
    "- Выявить основные факторы, способствующие оттоку пользователей.\n",
    "- Оптимизировать содержание и структуру курса, чтобы повысить привлекательность и доступность.\n",
    "- Разработать целевые стратегии поддержки и вовлечения студентов на ранних этапах обучения, что может способствовать увеличению завершенности курсов.\n",
    "- Создать прогностические модели, которые помогут предсказать поведение студентов на основании их взаимодействия с материалом в первые дни обучения.\n",
    "\n",
    "Таким образом, результаты исследования могут способствовать не только улучшению конкретного курса «Введение в анализ данных на R», но и оказать влияние на развитие онлайн-образования в целом."
   ]
  },
  {
   "cell_type": "markdown",
   "metadata": {},
   "source": [
    "### Оглавление\n",
    "..."
   ]
  },
  {
   "cell_type": "markdown",
   "metadata": {},
   "source": []
  },
  {
   "cell_type": "markdown",
   "metadata": {},
   "source": [
    "# Импорт библиотек"
   ]
  },
  {
   "cell_type": "code",
   "execution_count": 1,
   "metadata": {},
   "outputs": [],
   "source": [
    "import pandas as pd\n",
    "import numpy as np\n",
    "import matplotlib.pyplot as plt\n",
    "import seaborn as sns"
   ]
  },
  {
   "cell_type": "code",
   "execution_count": 2,
   "metadata": {},
   "outputs": [
    {
     "name": "stdout",
     "output_type": "stream",
     "text": [
      "D:\\pythonProg\\Python\\Python312\\python312.zip\n",
      "D:\\pythonProg\\Python\\Python312\\DLLs\n",
      "D:\\pythonProg\\Python\\Python312\\Lib\n",
      "D:\\pythonProg\\Python\\Python312\n",
      "d:\\diplom\\.venv\n",
      "\n",
      "d:\\diplom\\.venv\\Lib\\site-packages\n",
      "d:\\diplom\\.venv\\Lib\\site-packages\\win32\n",
      "d:\\diplom\\.venv\\Lib\\site-packages\\win32\\lib\n",
      "d:\\diplom\\.venv\\Lib\\site-packages\\Pythonwin\n",
      "d:\\diplom\\product\\insight_pulse\n"
     ]
    }
   ],
   "source": [
    "import sys\n",
    "\n",
    "sys.path.append('d:\\\\diplom\\\\product\\\\insight_pulse')\n",
    "\n",
    "for path in sys.path:\n",
    "    print(path)"
   ]
  },
  {
   "cell_type": "code",
   "execution_count": 3,
   "metadata": {},
   "outputs": [],
   "source": [
    "from eventframing.eventframe import EventFrame\n",
    "from eventframing.cols_schema import EventFrameColsSchema\n",
    "from eventframing.event_type import EventType\n",
    "\n",
    "from data_preprocessing.data_preprocessor import DataPreprocessor\n",
    "from data_preprocessing.preprocessors_lib.add_start_end_events import AddStartEndEventsPreprocessor\n",
    "from data_preprocessing.preprocessors_lib.split_sessions import SplitSessionsPreprocessor\n",
    "\n",
    "from ux_researching.descriptive_stats import DescStatsAnalyzer"
   ]
  },
  {
   "cell_type": "markdown",
   "metadata": {},
   "source": [
    "# Разведовательный анализ данных"
   ]
  },
  {
   "cell_type": "markdown",
   "metadata": {},
   "source": [
    "### Источник данных\n",
    "Данные для данного исследования предоставлены платформой Stepic и содержат журналы активности десятков тысяч пользователей на курсе \"Введение в анализ данных на R\". Эти данные являются реальными записями, что делает их особенно ценными для анализа поведения пользователей в контексте онлайн-обучения. Доступ к таким историческим данным позволяет выявить закономерности и провести достоверный анализ причин оттока пользователей.\n",
    "\n",
    "### Описание структуры файлов\n",
    "\n",
    "#### 1. Структура файла `events_data`\n",
    "Файл `events_data` содержит информацию о действиях пользователей на курсе и включает следующие поля:\n",
    "\n",
    "- **step_id**: ID стэпа, который указывает на конкретный шаг в курсе.\n",
    "- **user_id**: Анонимизированный ID пользователя, что позволяет отслеживать активность без раскрытия личных данных.\n",
    "- **timestamp**: Время наступления события в формате Unix Date, которое позволяет точно фиксировать, когда произошло конкретное действие.\n",
    "- **action**: Событие, отражающее интерактивность пользователя с курсом. Возможные значения включают:\n",
    "  - **discovered**: пользователь перешел на стэп.\n",
    "  - **viewed**: пользователь просмотрел шаг.\n",
    "  - **started_attempt**: начало попытки решить шаг; ранее пользователю необходимо было явно нажать на кнопку \"начать решение\", прежде чем приступить к решению практического стэпа.\n",
    "  - **passed**: удачное решение практического шага.\n",
    "\n",
    "#### 2. Структура файла `submissions`\n",
    "Файл `submissions` содержит данные о попытках решить практические задания и включает следующие поля:\n",
    "\n",
    "- **step_id**: ID стэпа, к которому относится отправленное решение.\n",
    "- **timestamp**: Время отправки решения в формате Unix Date, позволяющее отслеживать, когда пользователь попытался решить задачу.\n",
    "- **submission_status**: Статус решения, отражающий результат попытки пользователя (например, успешное или неуспешное решение).\n",
    "- **user_id**: Анонимизированный ID пользователя, что дает возможность связать попытки с конкретными участниками курса.\n",
    "\n",
    "Эти структуры данных обеспечивают обширные возможности для анализа поведения пользователей, выявления проблем и формирования рекомендаций по увеличению вовлеченности и снижению оттока студентов из курса."
   ]
  },
  {
   "cell_type": "code",
   "execution_count": 4,
   "metadata": {},
   "outputs": [],
   "source": [
    "DATA_PATH = 'datasets'"
   ]
  },
  {
   "cell_type": "markdown",
   "metadata": {},
   "source": [
    "## Загрузка и предобработка данных "
   ]
  },
  {
   "cell_type": "code",
   "execution_count": 5,
   "metadata": {},
   "outputs": [],
   "source": [
    "events = pd.read_csv(f\"{DATA_PATH}/event_data_train.csv\")\n",
    "submissions = pd.read_csv(f\"{DATA_PATH}/submissions_data_train.csv\")"
   ]
  },
  {
   "cell_type": "code",
   "execution_count": 6,
   "metadata": {},
   "outputs": [],
   "source": [
    "events[\"timestamp\"] = pd.to_datetime(events[\"timestamp\"], origin='unix', unit='s')\n",
    "submissions[\"timestamp\"] = pd.to_datetime(submissions[\"timestamp\"], origin='unix', unit='s')"
   ]
  },
  {
   "cell_type": "code",
   "execution_count": 7,
   "metadata": {},
   "outputs": [],
   "source": [
    "events[\"date\"] = pd.to_datetime(events[\"timestamp\"].dt.date)\n",
    "submissions[\"date\"] = pd.to_datetime(submissions[\"timestamp\"].dt.date)"
   ]
  },
  {
   "cell_type": "code",
   "execution_count": 8,
   "metadata": {},
   "outputs": [
    {
     "data": {
      "text/html": [
       "<div>\n",
       "<style scoped>\n",
       "    .dataframe tbody tr th:only-of-type {\n",
       "        vertical-align: middle;\n",
       "    }\n",
       "\n",
       "    .dataframe tbody tr th {\n",
       "        vertical-align: top;\n",
       "    }\n",
       "\n",
       "    .dataframe thead th {\n",
       "        text-align: right;\n",
       "    }\n",
       "</style>\n",
       "<table border=\"1\" class=\"dataframe\">\n",
       "  <thead>\n",
       "    <tr style=\"text-align: right;\">\n",
       "      <th></th>\n",
       "      <th>step_id</th>\n",
       "      <th>timestamp</th>\n",
       "      <th>action</th>\n",
       "      <th>user_id</th>\n",
       "      <th>date</th>\n",
       "    </tr>\n",
       "  </thead>\n",
       "  <tbody>\n",
       "    <tr>\n",
       "      <th>0</th>\n",
       "      <td>32815</td>\n",
       "      <td>2015-06-15 04:00:48</td>\n",
       "      <td>viewed</td>\n",
       "      <td>17632</td>\n",
       "      <td>2015-06-15</td>\n",
       "    </tr>\n",
       "    <tr>\n",
       "      <th>1</th>\n",
       "      <td>32815</td>\n",
       "      <td>2015-06-15 04:00:48</td>\n",
       "      <td>passed</td>\n",
       "      <td>17632</td>\n",
       "      <td>2015-06-15</td>\n",
       "    </tr>\n",
       "    <tr>\n",
       "      <th>2</th>\n",
       "      <td>32815</td>\n",
       "      <td>2015-06-15 04:00:48</td>\n",
       "      <td>discovered</td>\n",
       "      <td>17632</td>\n",
       "      <td>2015-06-15</td>\n",
       "    </tr>\n",
       "    <tr>\n",
       "      <th>3</th>\n",
       "      <td>32811</td>\n",
       "      <td>2015-06-15 04:01:35</td>\n",
       "      <td>discovered</td>\n",
       "      <td>17632</td>\n",
       "      <td>2015-06-15</td>\n",
       "    </tr>\n",
       "    <tr>\n",
       "      <th>4</th>\n",
       "      <td>32811</td>\n",
       "      <td>2015-06-15 04:01:35</td>\n",
       "      <td>viewed</td>\n",
       "      <td>17632</td>\n",
       "      <td>2015-06-15</td>\n",
       "    </tr>\n",
       "  </tbody>\n",
       "</table>\n",
       "</div>"
      ],
      "text/plain": [
       "   step_id           timestamp      action  user_id       date\n",
       "0    32815 2015-06-15 04:00:48      viewed    17632 2015-06-15\n",
       "1    32815 2015-06-15 04:00:48      passed    17632 2015-06-15\n",
       "2    32815 2015-06-15 04:00:48  discovered    17632 2015-06-15\n",
       "3    32811 2015-06-15 04:01:35  discovered    17632 2015-06-15\n",
       "4    32811 2015-06-15 04:01:35      viewed    17632 2015-06-15"
      ]
     },
     "execution_count": 8,
     "metadata": {},
     "output_type": "execute_result"
    }
   ],
   "source": [
    "events.head()"
   ]
  },
  {
   "cell_type": "code",
   "execution_count": 9,
   "metadata": {},
   "outputs": [
    {
     "data": {
      "text/html": [
       "<div>\n",
       "<style scoped>\n",
       "    .dataframe tbody tr th:only-of-type {\n",
       "        vertical-align: middle;\n",
       "    }\n",
       "\n",
       "    .dataframe tbody tr th {\n",
       "        vertical-align: top;\n",
       "    }\n",
       "\n",
       "    .dataframe thead th {\n",
       "        text-align: right;\n",
       "    }\n",
       "</style>\n",
       "<table border=\"1\" class=\"dataframe\">\n",
       "  <thead>\n",
       "    <tr style=\"text-align: right;\">\n",
       "      <th></th>\n",
       "      <th>step_id</th>\n",
       "      <th>timestamp</th>\n",
       "      <th>submission_status</th>\n",
       "      <th>user_id</th>\n",
       "      <th>date</th>\n",
       "    </tr>\n",
       "  </thead>\n",
       "  <tbody>\n",
       "    <tr>\n",
       "      <th>0</th>\n",
       "      <td>31971</td>\n",
       "      <td>2015-06-15 06:21:15</td>\n",
       "      <td>correct</td>\n",
       "      <td>15853</td>\n",
       "      <td>2015-06-15</td>\n",
       "    </tr>\n",
       "    <tr>\n",
       "      <th>1</th>\n",
       "      <td>31972</td>\n",
       "      <td>2015-06-15 06:05:00</td>\n",
       "      <td>correct</td>\n",
       "      <td>15853</td>\n",
       "      <td>2015-06-15</td>\n",
       "    </tr>\n",
       "    <tr>\n",
       "      <th>2</th>\n",
       "      <td>31972</td>\n",
       "      <td>2016-11-11 08:15:49</td>\n",
       "      <td>wrong</td>\n",
       "      <td>15853</td>\n",
       "      <td>2016-11-11</td>\n",
       "    </tr>\n",
       "    <tr>\n",
       "      <th>3</th>\n",
       "      <td>31972</td>\n",
       "      <td>2016-11-11 08:16:04</td>\n",
       "      <td>correct</td>\n",
       "      <td>15853</td>\n",
       "      <td>2016-11-11</td>\n",
       "    </tr>\n",
       "    <tr>\n",
       "      <th>4</th>\n",
       "      <td>31976</td>\n",
       "      <td>2015-06-15 06:02:03</td>\n",
       "      <td>wrong</td>\n",
       "      <td>15853</td>\n",
       "      <td>2015-06-15</td>\n",
       "    </tr>\n",
       "  </tbody>\n",
       "</table>\n",
       "</div>"
      ],
      "text/plain": [
       "   step_id           timestamp submission_status  user_id       date\n",
       "0    31971 2015-06-15 06:21:15           correct    15853 2015-06-15\n",
       "1    31972 2015-06-15 06:05:00           correct    15853 2015-06-15\n",
       "2    31972 2016-11-11 08:15:49             wrong    15853 2016-11-11\n",
       "3    31972 2016-11-11 08:16:04           correct    15853 2016-11-11\n",
       "4    31976 2015-06-15 06:02:03             wrong    15853 2015-06-15"
      ]
     },
     "execution_count": 9,
     "metadata": {},
     "output_type": "execute_result"
    }
   ],
   "source": [
    "submissions.head()"
   ]
  },
  {
   "cell_type": "code",
   "execution_count": 10,
   "metadata": {},
   "outputs": [],
   "source": [
    "# Поскольку файл submissions содержит только информацию о практических заданиях,\n",
    "# то будем считать, что степы, которые там не встречаются - теоретические степы.\n",
    "practise_steps =  submissions['step_id'].unique()\n",
    "events['step_status'] = np.where(events['step_id'].isin(practise_steps), 'practise', 'theory')"
   ]
  },
  {
   "cell_type": "code",
   "execution_count": 11,
   "metadata": {},
   "outputs": [],
   "source": [
    "# Посколку попытки решения практических заданий нужно тоже восприримать как собяия\n",
    "# Добавим их к набору данных о событиях\n",
    "# Однако чтобы избежать дублирования успешонго решения добавим только информаицю о неудачах\n",
    "failed_submissions = submissions[submissions['submission_status'] == 'wrong'].copy()\n",
    "failed_submissions['step_status'] = 'practise'\n",
    "failed_submissions['action'] = 'failed'\n",
    "failed_submissions = failed_submissions.loc[:, ['user_id', 'step_id', 'action', 'timestamp', 'step_status']]\n",
    "\n",
    "events = pd.concat(\n",
    "    [events, failed_submissions], axis=0\n",
    ").sort_values(by=['user_id', 'timestamp'])\n",
    "\n",
    "del failed_submissions\n",
    "\n"
   ]
  },
  {
   "cell_type": "code",
   "execution_count": 12,
   "metadata": {},
   "outputs": [
    {
     "data": {
      "text/plain": [
       "(3767102, 6)"
      ]
     },
     "execution_count": 12,
     "metadata": {},
     "output_type": "execute_result"
    }
   ],
   "source": [
    "events.shape"
   ]
  },
  {
   "cell_type": "code",
   "execution_count": 13,
   "metadata": {},
   "outputs": [],
   "source": [
    "# Для более детального понимания к действию добавим тип шага\n",
    "# На котром это действие было совершено\n",
    "\n",
    "events['action'] = events['action'] + '_' + events['step_status']"
   ]
  },
  {
   "cell_type": "code",
   "execution_count": 14,
   "metadata": {},
   "outputs": [
    {
     "data": {
      "text/html": [
       "<div>\n",
       "<style scoped>\n",
       "    .dataframe tbody tr th:only-of-type {\n",
       "        vertical-align: middle;\n",
       "    }\n",
       "\n",
       "    .dataframe tbody tr th {\n",
       "        vertical-align: top;\n",
       "    }\n",
       "\n",
       "    .dataframe thead th {\n",
       "        text-align: right;\n",
       "    }\n",
       "</style>\n",
       "<table border=\"1\" class=\"dataframe\">\n",
       "  <thead>\n",
       "    <tr style=\"text-align: right;\">\n",
       "      <th></th>\n",
       "      <th>step_id</th>\n",
       "      <th>timestamp</th>\n",
       "      <th>action</th>\n",
       "      <th>user_id</th>\n",
       "      <th>date</th>\n",
       "      <th>step_status</th>\n",
       "    </tr>\n",
       "  </thead>\n",
       "  <tbody>\n",
       "    <tr>\n",
       "      <th>1347416</th>\n",
       "      <td>31981</td>\n",
       "      <td>2016-09-02 14:44:24</td>\n",
       "      <td>viewed_practise</td>\n",
       "      <td>1</td>\n",
       "      <td>2016-09-02</td>\n",
       "      <td>practise</td>\n",
       "    </tr>\n",
       "    <tr>\n",
       "      <th>1347417</th>\n",
       "      <td>31981</td>\n",
       "      <td>2016-09-02 14:44:24</td>\n",
       "      <td>discovered_practise</td>\n",
       "      <td>1</td>\n",
       "      <td>2016-09-02</td>\n",
       "      <td>practise</td>\n",
       "    </tr>\n",
       "    <tr>\n",
       "      <th>2874398</th>\n",
       "      <td>32815</td>\n",
       "      <td>2017-12-27 14:02:44</td>\n",
       "      <td>discovered_theory</td>\n",
       "      <td>2</td>\n",
       "      <td>2017-12-27</td>\n",
       "      <td>theory</td>\n",
       "    </tr>\n",
       "    <tr>\n",
       "      <th>2874399</th>\n",
       "      <td>32815</td>\n",
       "      <td>2017-12-27 14:02:44</td>\n",
       "      <td>viewed_theory</td>\n",
       "      <td>2</td>\n",
       "      <td>2017-12-27</td>\n",
       "      <td>theory</td>\n",
       "    </tr>\n",
       "    <tr>\n",
       "      <th>2874400</th>\n",
       "      <td>32815</td>\n",
       "      <td>2017-12-27 14:02:44</td>\n",
       "      <td>passed_theory</td>\n",
       "      <td>2</td>\n",
       "      <td>2017-12-27</td>\n",
       "      <td>theory</td>\n",
       "    </tr>\n",
       "  </tbody>\n",
       "</table>\n",
       "</div>"
      ],
      "text/plain": [
       "         step_id           timestamp               action  user_id       date  \\\n",
       "1347416    31981 2016-09-02 14:44:24      viewed_practise        1 2016-09-02   \n",
       "1347417    31981 2016-09-02 14:44:24  discovered_practise        1 2016-09-02   \n",
       "2874398    32815 2017-12-27 14:02:44    discovered_theory        2 2017-12-27   \n",
       "2874399    32815 2017-12-27 14:02:44        viewed_theory        2 2017-12-27   \n",
       "2874400    32815 2017-12-27 14:02:44        passed_theory        2 2017-12-27   \n",
       "\n",
       "        step_status  \n",
       "1347416    practise  \n",
       "1347417    practise  \n",
       "2874398      theory  \n",
       "2874399      theory  \n",
       "2874400      theory  "
      ]
     },
     "execution_count": 14,
     "metadata": {},
     "output_type": "execute_result"
    }
   ],
   "source": [
    "events.head()"
   ]
  },
  {
   "cell_type": "code",
   "execution_count": 15,
   "metadata": {},
   "outputs": [
    {
     "data": {
      "text/html": [
       "<div>\n",
       "<style scoped>\n",
       "    .dataframe tbody tr th:only-of-type {\n",
       "        vertical-align: middle;\n",
       "    }\n",
       "\n",
       "    .dataframe tbody tr th {\n",
       "        vertical-align: top;\n",
       "    }\n",
       "\n",
       "    .dataframe thead th {\n",
       "        text-align: right;\n",
       "    }\n",
       "</style>\n",
       "<table border=\"1\" class=\"dataframe\">\n",
       "  <thead>\n",
       "    <tr style=\"text-align: right;\">\n",
       "      <th></th>\n",
       "      <th>step_id</th>\n",
       "      <th>timestamp</th>\n",
       "      <th>user_id</th>\n",
       "      <th>date</th>\n",
       "    </tr>\n",
       "  </thead>\n",
       "  <tbody>\n",
       "    <tr>\n",
       "      <th>count</th>\n",
       "      <td>3.767102e+06</td>\n",
       "      <td>3767102</td>\n",
       "      <td>3.767102e+06</td>\n",
       "      <td>3480703</td>\n",
       "    </tr>\n",
       "    <tr>\n",
       "      <th>mean</th>\n",
       "      <td>3.473878e+04</td>\n",
       "      <td>2016-11-29 12:26:59.436603648</td>\n",
       "      <td>1.330288e+04</td>\n",
       "      <td>2016-11-27 09:03:34.848667392</td>\n",
       "    </tr>\n",
       "    <tr>\n",
       "      <th>min</th>\n",
       "      <td>3.045600e+04</td>\n",
       "      <td>2015-06-15 04:00:48</td>\n",
       "      <td>1.000000e+00</td>\n",
       "      <td>2015-06-15 00:00:00</td>\n",
       "    </tr>\n",
       "    <tr>\n",
       "      <th>25%</th>\n",
       "      <td>3.217700e+04</td>\n",
       "      <td>2015-12-18 17:55:28</td>\n",
       "      <td>6.626000e+03</td>\n",
       "      <td>2015-12-16 00:00:00</td>\n",
       "    </tr>\n",
       "    <tr>\n",
       "      <th>50%</th>\n",
       "      <td>3.292900e+04</td>\n",
       "      <td>2017-01-11 02:20:07</td>\n",
       "      <td>1.318900e+04</td>\n",
       "      <td>2017-01-08 00:00:00</td>\n",
       "    </tr>\n",
       "    <tr>\n",
       "      <th>75%</th>\n",
       "      <td>3.348100e+04</td>\n",
       "      <td>2017-10-15 12:21:08.500000</td>\n",
       "      <td>2.012200e+04</td>\n",
       "      <td>2017-10-13 00:00:00</td>\n",
       "    </tr>\n",
       "    <tr>\n",
       "      <th>max</th>\n",
       "      <td>1.584330e+05</td>\n",
       "      <td>2018-05-19 23:33:31</td>\n",
       "      <td>2.679800e+04</td>\n",
       "      <td>2018-05-19 00:00:00</td>\n",
       "    </tr>\n",
       "    <tr>\n",
       "      <th>std</th>\n",
       "      <td>1.377292e+04</td>\n",
       "      <td>NaN</td>\n",
       "      <td>7.783315e+03</td>\n",
       "      <td>NaN</td>\n",
       "    </tr>\n",
       "  </tbody>\n",
       "</table>\n",
       "</div>"
      ],
      "text/plain": [
       "            step_id                      timestamp       user_id  \\\n",
       "count  3.767102e+06                        3767102  3.767102e+06   \n",
       "mean   3.473878e+04  2016-11-29 12:26:59.436603648  1.330288e+04   \n",
       "min    3.045600e+04            2015-06-15 04:00:48  1.000000e+00   \n",
       "25%    3.217700e+04            2015-12-18 17:55:28  6.626000e+03   \n",
       "50%    3.292900e+04            2017-01-11 02:20:07  1.318900e+04   \n",
       "75%    3.348100e+04     2017-10-15 12:21:08.500000  2.012200e+04   \n",
       "max    1.584330e+05            2018-05-19 23:33:31  2.679800e+04   \n",
       "std    1.377292e+04                            NaN  7.783315e+03   \n",
       "\n",
       "                                date  \n",
       "count                        3480703  \n",
       "mean   2016-11-27 09:03:34.848667392  \n",
       "min              2015-06-15 00:00:00  \n",
       "25%              2015-12-16 00:00:00  \n",
       "50%              2017-01-08 00:00:00  \n",
       "75%              2017-10-13 00:00:00  \n",
       "max              2018-05-19 00:00:00  \n",
       "std                              NaN  "
      ]
     },
     "execution_count": 15,
     "metadata": {},
     "output_type": "execute_result"
    }
   ],
   "source": [
    "# Для описания наборов данных можно использовать стандартные инстурменты\n",
    "events.describe()"
   ]
  },
  {
   "cell_type": "markdown",
   "metadata": {},
   "source": [
    "## Статистики событий и диаграмма жизни"
   ]
  },
  {
   "cell_type": "code",
   "execution_count": 19,
   "metadata": {},
   "outputs": [],
   "source": [
    "# Однако это дает довольно скудное представление о данных.\n",
    "# Для получения более подробной информации можно использовать специальные инструменты\n",
    "from eventframing.eventframe import EventFrame\n",
    "\n",
    "# Создаем схему соответсвия колонок исходных данных и их назначения в фрейме событий\n",
    "cols_schema={\n",
    "    'user_id': 'user_id',\n",
    "    'event_name': 'action',\n",
    "    'event_timestamp': 'timestamp',\n",
    "}\n",
    "\n",
    "# Создаем фрейм событий и передаем в него данные о событиях и схему соответсвия колонок\n",
    "events_frame = EventFrame(\n",
    "    data=events,\n",
    "    cols_schema=cols_schema\n",
    ")\n"
   ]
  },
  {
   "cell_type": "code",
   "execution_count": 17,
   "metadata": {},
   "outputs": [
    {
     "data": {
      "text/html": [
       "<div>\n",
       "<style scoped>\n",
       "    .dataframe tbody tr th:only-of-type {\n",
       "        vertical-align: middle;\n",
       "    }\n",
       "\n",
       "    .dataframe tbody tr th {\n",
       "        vertical-align: top;\n",
       "    }\n",
       "\n",
       "    .dataframe thead th {\n",
       "        text-align: right;\n",
       "    }\n",
       "</style>\n",
       "<table border=\"1\" class=\"dataframe\">\n",
       "  <thead>\n",
       "    <tr style=\"text-align: right;\">\n",
       "      <th></th>\n",
       "      <th>step_id</th>\n",
       "      <th>timestamp</th>\n",
       "      <th>action</th>\n",
       "      <th>user_id</th>\n",
       "      <th>date</th>\n",
       "      <th>step_status</th>\n",
       "      <th>event_id</th>\n",
       "      <th>event_type</th>\n",
       "      <th>event_type_index</th>\n",
       "    </tr>\n",
       "  </thead>\n",
       "  <tbody>\n",
       "    <tr>\n",
       "      <th>1347416</th>\n",
       "      <td>31981</td>\n",
       "      <td>2016-09-02 14:44:24</td>\n",
       "      <td>viewed_practise</td>\n",
       "      <td>1</td>\n",
       "      <td>2016-09-02</td>\n",
       "      <td>practise</td>\n",
       "      <td>0</td>\n",
       "      <td>raw</td>\n",
       "      <td>2</td>\n",
       "    </tr>\n",
       "    <tr>\n",
       "      <th>1347417</th>\n",
       "      <td>31981</td>\n",
       "      <td>2016-09-02 14:44:24</td>\n",
       "      <td>discovered_practise</td>\n",
       "      <td>1</td>\n",
       "      <td>2016-09-02</td>\n",
       "      <td>practise</td>\n",
       "      <td>1</td>\n",
       "      <td>raw</td>\n",
       "      <td>2</td>\n",
       "    </tr>\n",
       "    <tr>\n",
       "      <th>2874398</th>\n",
       "      <td>32815</td>\n",
       "      <td>2017-12-27 14:02:44</td>\n",
       "      <td>discovered_theory</td>\n",
       "      <td>2</td>\n",
       "      <td>2017-12-27</td>\n",
       "      <td>theory</td>\n",
       "      <td>2</td>\n",
       "      <td>raw</td>\n",
       "      <td>2</td>\n",
       "    </tr>\n",
       "    <tr>\n",
       "      <th>2874399</th>\n",
       "      <td>32815</td>\n",
       "      <td>2017-12-27 14:02:44</td>\n",
       "      <td>viewed_theory</td>\n",
       "      <td>2</td>\n",
       "      <td>2017-12-27</td>\n",
       "      <td>theory</td>\n",
       "      <td>3</td>\n",
       "      <td>raw</td>\n",
       "      <td>2</td>\n",
       "    </tr>\n",
       "    <tr>\n",
       "      <th>2874400</th>\n",
       "      <td>32815</td>\n",
       "      <td>2017-12-27 14:02:44</td>\n",
       "      <td>passed_theory</td>\n",
       "      <td>2</td>\n",
       "      <td>2017-12-27</td>\n",
       "      <td>theory</td>\n",
       "      <td>4</td>\n",
       "      <td>raw</td>\n",
       "      <td>2</td>\n",
       "    </tr>\n",
       "  </tbody>\n",
       "</table>\n",
       "</div>"
      ],
      "text/plain": [
       "         step_id           timestamp               action  user_id       date  \\\n",
       "1347416    31981 2016-09-02 14:44:24      viewed_practise        1 2016-09-02   \n",
       "1347417    31981 2016-09-02 14:44:24  discovered_practise        1 2016-09-02   \n",
       "2874398    32815 2017-12-27 14:02:44    discovered_theory        2 2017-12-27   \n",
       "2874399    32815 2017-12-27 14:02:44        viewed_theory        2 2017-12-27   \n",
       "2874400    32815 2017-12-27 14:02:44        passed_theory        2 2017-12-27   \n",
       "\n",
       "        step_status  event_id event_type  event_type_index  \n",
       "1347416    practise         0        raw                 2  \n",
       "1347417    practise         1        raw                 2  \n",
       "2874398      theory         2        raw                 2  \n",
       "2874399      theory         3        raw                 2  \n",
       "2874400      theory         4        raw                 2  "
      ]
     },
     "execution_count": 17,
     "metadata": {},
     "output_type": "execute_result"
    }
   ],
   "source": [
    "# Теперь помимо оригинальных даннных в набое данных также присутствует набор служебных полей\n",
    "events_frame.to_dataframe().head()"
   ]
  },
  {
   "cell_type": "code",
   "execution_count": 18,
   "metadata": {},
   "outputs": [
    {
     "data": {
      "text/html": [
       "<div>\n",
       "<style scoped>\n",
       "    .dataframe tbody tr th:only-of-type {\n",
       "        vertical-align: middle;\n",
       "    }\n",
       "\n",
       "    .dataframe tbody tr th {\n",
       "        vertical-align: top;\n",
       "    }\n",
       "\n",
       "    .dataframe thead th {\n",
       "        text-align: right;\n",
       "    }\n",
       "</style>\n",
       "<table border=\"1\" class=\"dataframe\">\n",
       "  <thead>\n",
       "    <tr style=\"text-align: right;\">\n",
       "      <th></th>\n",
       "      <th></th>\n",
       "      <th>value</th>\n",
       "    </tr>\n",
       "    <tr>\n",
       "      <th>category</th>\n",
       "      <th>metric</th>\n",
       "      <th></th>\n",
       "    </tr>\n",
       "  </thead>\n",
       "  <tbody>\n",
       "    <tr>\n",
       "      <th rowspan=\"5\" valign=\"top\">overall</th>\n",
       "      <th>unique_users</th>\n",
       "      <td>19234</td>\n",
       "    </tr>\n",
       "    <tr>\n",
       "      <th>unique_events</th>\n",
       "      <td>8</td>\n",
       "    </tr>\n",
       "    <tr>\n",
       "      <th>frame_start</th>\n",
       "      <td>2015-06-15 04:00:48</td>\n",
       "    </tr>\n",
       "    <tr>\n",
       "      <th>frame_end</th>\n",
       "      <td>2018-05-19 23:33:31</td>\n",
       "    </tr>\n",
       "    <tr>\n",
       "      <th>frame_duration</th>\n",
       "      <td>1069 days 19:32:43</td>\n",
       "    </tr>\n",
       "    <tr>\n",
       "      <th rowspan=\"5\" valign=\"top\">path_duration</th>\n",
       "      <th>mean</th>\n",
       "      <td>72 days 19:15:53.152958303</td>\n",
       "    </tr>\n",
       "    <tr>\n",
       "      <th>median</th>\n",
       "      <td>0 days 07:41:20</td>\n",
       "    </tr>\n",
       "    <tr>\n",
       "      <th>std</th>\n",
       "      <td>175 days 09:21:44.737678184</td>\n",
       "    </tr>\n",
       "    <tr>\n",
       "      <th>min</th>\n",
       "      <td>0 days 00:00:00</td>\n",
       "    </tr>\n",
       "    <tr>\n",
       "      <th>max</th>\n",
       "      <td>1064 days 17:42:27</td>\n",
       "    </tr>\n",
       "    <tr>\n",
       "      <th rowspan=\"5\" valign=\"top\">path_steps_length</th>\n",
       "      <th>mean</th>\n",
       "      <td>195.8564</td>\n",
       "    </tr>\n",
       "    <tr>\n",
       "      <th>median</th>\n",
       "      <td>32.0</td>\n",
       "    </tr>\n",
       "    <tr>\n",
       "      <th>std</th>\n",
       "      <td>456.389791</td>\n",
       "    </tr>\n",
       "    <tr>\n",
       "      <th>min</th>\n",
       "      <td>1</td>\n",
       "    </tr>\n",
       "    <tr>\n",
       "      <th>max</th>\n",
       "      <td>33043</td>\n",
       "    </tr>\n",
       "  </tbody>\n",
       "</table>\n",
       "</div>"
      ],
      "text/plain": [
       "                                                        value\n",
       "category          metric                                     \n",
       "overall           unique_users                          19234\n",
       "                  unique_events                             8\n",
       "                  frame_start             2015-06-15 04:00:48\n",
       "                  frame_end               2018-05-19 23:33:31\n",
       "                  frame_duration           1069 days 19:32:43\n",
       "path_duration     mean             72 days 19:15:53.152958303\n",
       "                  median                      0 days 07:41:20\n",
       "                  std             175 days 09:21:44.737678184\n",
       "                  min                         0 days 00:00:00\n",
       "                  max                      1064 days 17:42:27\n",
       "path_steps_length mean                               195.8564\n",
       "                  median                                 32.0\n",
       "                  std                              456.389791\n",
       "                  min                                       1\n",
       "                  max                                   33043"
      ]
     },
     "execution_count": 18,
     "metadata": {},
     "output_type": "execute_result"
    }
   ],
   "source": [
    "# Мы можем описать набор данных используя специальные инструменты\n",
    "DescStatsAnalyzer.describe(events_frame, add_session_stats=False)"
   ]
  },
  {
   "cell_type": "markdown",
   "metadata": {},
   "source": [
    "Такой формат анализа дает куда более обширное представление о данных:\n",
    "- Мы понимаем что горизонт исследования - три года, а значит можно делать уверенные выводы и отслеживать изменения тенденций\n",
    "- Крайне наглядна видна проблема *раннего оттока* пользователей, т.к. среднее время пребываняи на курсе - 72 дня, а медианное - всего 8 часов\n",
    "    - Это значит что **50% пользователей не возвращаются на курс даже на следующий день**\n",
    "- При этом судя по тому что 50% пользователей совершили хотя бы 30 действий говорит о том, что первые шаги курса все таки успешно проходятся\n",
    "\n",
    "Добавим статистики о конкретных событиях"
   ]
  },
  {
   "cell_type": "code",
   "execution_count": 19,
   "metadata": {},
   "outputs": [
    {
     "data": {
      "text/html": [
       "<div>\n",
       "<style scoped>\n",
       "    .dataframe tbody tr th:only-of-type {\n",
       "        vertical-align: middle;\n",
       "    }\n",
       "\n",
       "    .dataframe tbody tr th {\n",
       "        vertical-align: top;\n",
       "    }\n",
       "\n",
       "    .dataframe thead tr th {\n",
       "        text-align: left;\n",
       "    }\n",
       "</style>\n",
       "<table border=\"1\" class=\"dataframe\">\n",
       "  <thead>\n",
       "    <tr>\n",
       "      <th></th>\n",
       "      <th>action</th>\n",
       "      <th colspan=\"4\" halign=\"left\">overall</th>\n",
       "      <th colspan=\"5\" halign=\"left\">time_to_first_occurrence</th>\n",
       "      <th colspan=\"5\" halign=\"left\">steps_to_first_occurrence</th>\n",
       "    </tr>\n",
       "    <tr>\n",
       "      <th></th>\n",
       "      <th></th>\n",
       "      <th>event_count</th>\n",
       "      <th>unique_users</th>\n",
       "      <th>event_percentage</th>\n",
       "      <th>user_percentage</th>\n",
       "      <th>mean</th>\n",
       "      <th>median</th>\n",
       "      <th>std</th>\n",
       "      <th>min</th>\n",
       "      <th>max</th>\n",
       "      <th>mean</th>\n",
       "      <th>median</th>\n",
       "      <th>std</th>\n",
       "      <th>min</th>\n",
       "      <th>max</th>\n",
       "    </tr>\n",
       "  </thead>\n",
       "  <tbody>\n",
       "    <tr>\n",
       "      <th>0</th>\n",
       "      <td>discovered_practise</td>\n",
       "      <td>255606</td>\n",
       "      <td>13697</td>\n",
       "      <td>6.785216</td>\n",
       "      <td>71.212436</td>\n",
       "      <td>4 days 16:44:20.486091844</td>\n",
       "      <td>0 days 00:00:33</td>\n",
       "      <td>37 days 16:19:54.248785551</td>\n",
       "      <td>0 days 00:00:00</td>\n",
       "      <td>871 days 21:05:53</td>\n",
       "      <td>8.201577</td>\n",
       "      <td>8.0</td>\n",
       "      <td>8.496539</td>\n",
       "      <td>1</td>\n",
       "      <td>452</td>\n",
       "    </tr>\n",
       "    <tr>\n",
       "      <th>1</th>\n",
       "      <td>discovered_theory</td>\n",
       "      <td>433889</td>\n",
       "      <td>17197</td>\n",
       "      <td>11.517846</td>\n",
       "      <td>89.409379</td>\n",
       "      <td>0 days 02:21:43.190963540</td>\n",
       "      <td>0 days 00:00:00</td>\n",
       "      <td>5 days 02:12:42.333069459</td>\n",
       "      <td>0 days 00:00:00</td>\n",
       "      <td>553 days 14:24:17</td>\n",
       "      <td>2.110659</td>\n",
       "      <td>2.0</td>\n",
       "      <td>3.961098</td>\n",
       "      <td>1</td>\n",
       "      <td>491</td>\n",
       "    </tr>\n",
       "    <tr>\n",
       "      <th>2</th>\n",
       "      <td>failed_practise</td>\n",
       "      <td>286399</td>\n",
       "      <td>7765</td>\n",
       "      <td>7.602635</td>\n",
       "      <td>40.371218</td>\n",
       "      <td>20 days 16:22:49.607469414</td>\n",
       "      <td>0 days 03:04:01</td>\n",
       "      <td>81 days 10:12:20.269079278</td>\n",
       "      <td>0 days 00:00:03</td>\n",
       "      <td>938 days 01:21:23</td>\n",
       "      <td>57.362910</td>\n",
       "      <td>52.0</td>\n",
       "      <td>45.148937</td>\n",
       "      <td>2</td>\n",
       "      <td>811</td>\n",
       "    </tr>\n",
       "    <tr>\n",
       "      <th>3</th>\n",
       "      <td>passed_practise</td>\n",
       "      <td>216442</td>\n",
       "      <td>9794</td>\n",
       "      <td>5.745584</td>\n",
       "      <td>50.920245</td>\n",
       "      <td>9 days 00:04:42.898100878</td>\n",
       "      <td>0 days 00:01:29</td>\n",
       "      <td>54 days 06:28:00.099410415</td>\n",
       "      <td>0 days 00:00:02</td>\n",
       "      <td>882 days 04:41:31</td>\n",
       "      <td>14.829998</td>\n",
       "      <td>10.0</td>\n",
       "      <td>19.709231</td>\n",
       "      <td>2</td>\n",
       "      <td>643</td>\n",
       "    </tr>\n",
       "    <tr>\n",
       "      <th>4</th>\n",
       "      <td>passed_theory</td>\n",
       "      <td>433889</td>\n",
       "      <td>17197</td>\n",
       "      <td>11.517846</td>\n",
       "      <td>89.409379</td>\n",
       "      <td>0 days 02:21:43.190963540</td>\n",
       "      <td>0 days 00:00:00</td>\n",
       "      <td>5 days 02:12:42.333069459</td>\n",
       "      <td>0 days 00:00:00</td>\n",
       "      <td>553 days 14:24:17</td>\n",
       "      <td>2.122405</td>\n",
       "      <td>2.0</td>\n",
       "      <td>3.989033</td>\n",
       "      <td>1</td>\n",
       "      <td>492</td>\n",
       "    </tr>\n",
       "    <tr>\n",
       "      <th>5</th>\n",
       "      <td>started_attempt_practise</td>\n",
       "      <td>310047</td>\n",
       "      <td>11400</td>\n",
       "      <td>8.230385</td>\n",
       "      <td>59.270043</td>\n",
       "      <td>8 days 12:43:07.129736842</td>\n",
       "      <td>0 days 00:00:56</td>\n",
       "      <td>56 days 06:20:51.434016117</td>\n",
       "      <td>0 days 00:00:00</td>\n",
       "      <td>1008 days 18:26:27</td>\n",
       "      <td>12.178860</td>\n",
       "      <td>9.0</td>\n",
       "      <td>48.719654</td>\n",
       "      <td>1</td>\n",
       "      <td>4335</td>\n",
       "    </tr>\n",
       "    <tr>\n",
       "      <th>6</th>\n",
       "      <td>viewed_practise</td>\n",
       "      <td>713088</td>\n",
       "      <td>13697</td>\n",
       "      <td>18.929352</td>\n",
       "      <td>71.212436</td>\n",
       "      <td>4 days 16:43:10.710301525</td>\n",
       "      <td>0 days 00:00:33</td>\n",
       "      <td>37 days 16:19:58.213889577</td>\n",
       "      <td>0 days 00:00:00</td>\n",
       "      <td>871 days 21:05:53</td>\n",
       "      <td>8.178214</td>\n",
       "      <td>8.0</td>\n",
       "      <td>8.177169</td>\n",
       "      <td>1</td>\n",
       "      <td>453</td>\n",
       "    </tr>\n",
       "    <tr>\n",
       "      <th>7</th>\n",
       "      <td>viewed_theory</td>\n",
       "      <td>1117742</td>\n",
       "      <td>17198</td>\n",
       "      <td>29.671137</td>\n",
       "      <td>89.414578</td>\n",
       "      <td>0 days 02:20:33.757588091</td>\n",
       "      <td>0 days 00:00:00</td>\n",
       "      <td>5 days 02:11:56.940635428</td>\n",
       "      <td>0 days 00:00:00</td>\n",
       "      <td>553 days 14:24:17</td>\n",
       "      <td>2.101000</td>\n",
       "      <td>2.0</td>\n",
       "      <td>1.352540</td>\n",
       "      <td>1</td>\n",
       "      <td>84</td>\n",
       "    </tr>\n",
       "  </tbody>\n",
       "</table>\n",
       "</div>"
      ],
      "text/plain": [
       "                     action     overall                                \\\n",
       "                            event_count unique_users event_percentage   \n",
       "0       discovered_practise      255606        13697         6.785216   \n",
       "1         discovered_theory      433889        17197        11.517846   \n",
       "2           failed_practise      286399         7765         7.602635   \n",
       "3           passed_practise      216442         9794         5.745584   \n",
       "4             passed_theory      433889        17197        11.517846   \n",
       "5  started_attempt_practise      310047        11400         8.230385   \n",
       "6           viewed_practise      713088        13697        18.929352   \n",
       "7             viewed_theory     1117742        17198        29.671137   \n",
       "\n",
       "                    time_to_first_occurrence                  \\\n",
       "  user_percentage                       mean          median   \n",
       "0       71.212436  4 days 16:44:20.486091844 0 days 00:00:33   \n",
       "1       89.409379  0 days 02:21:43.190963540 0 days 00:00:00   \n",
       "2       40.371218 20 days 16:22:49.607469414 0 days 03:04:01   \n",
       "3       50.920245  9 days 00:04:42.898100878 0 days 00:01:29   \n",
       "4       89.409379  0 days 02:21:43.190963540 0 days 00:00:00   \n",
       "5       59.270043  8 days 12:43:07.129736842 0 days 00:00:56   \n",
       "6       71.212436  4 days 16:43:10.710301525 0 days 00:00:33   \n",
       "7       89.414578  0 days 02:20:33.757588091 0 days 00:00:00   \n",
       "\n",
       "                                                                 \\\n",
       "                         std             min                max   \n",
       "0 37 days 16:19:54.248785551 0 days 00:00:00  871 days 21:05:53   \n",
       "1  5 days 02:12:42.333069459 0 days 00:00:00  553 days 14:24:17   \n",
       "2 81 days 10:12:20.269079278 0 days 00:00:03  938 days 01:21:23   \n",
       "3 54 days 06:28:00.099410415 0 days 00:00:02  882 days 04:41:31   \n",
       "4  5 days 02:12:42.333069459 0 days 00:00:00  553 days 14:24:17   \n",
       "5 56 days 06:20:51.434016117 0 days 00:00:00 1008 days 18:26:27   \n",
       "6 37 days 16:19:58.213889577 0 days 00:00:00  871 days 21:05:53   \n",
       "7  5 days 02:11:56.940635428 0 days 00:00:00  553 days 14:24:17   \n",
       "\n",
       "  steps_to_first_occurrence                              \n",
       "                       mean median        std min   max  \n",
       "0                  8.201577    8.0   8.496539   1   452  \n",
       "1                  2.110659    2.0   3.961098   1   491  \n",
       "2                 57.362910   52.0  45.148937   2   811  \n",
       "3                 14.829998   10.0  19.709231   2   643  \n",
       "4                  2.122405    2.0   3.989033   1   492  \n",
       "5                 12.178860    9.0  48.719654   1  4335  \n",
       "6                  8.178214    8.0   8.177169   1   453  \n",
       "7                  2.101000    2.0   1.352540   1    84  "
      ]
     },
     "execution_count": 19,
     "metadata": {},
     "output_type": "execute_result"
    }
   ],
   "source": [
    "DescStatsAnalyzer.describe_events(events_frame, add_session_stats=False)"
   ]
  },
  {
   "cell_type": "markdown",
   "metadata": {},
   "source": [
    "Пока глобальные выводы делать рано но этот инструмент дает понять несколько очень важных фактов:\n",
    "1. Только 60 % от всех пользователей начали решать хотя бы один практический степ\n",
    "2. Только в 40% случаев после просмотра практического шага начиналось его решение\n",
    "3. При этом у 50% пользователей из тех, кто все таки дошел про практического шага это заняло менее минуты и 9 действий (то есть три степа)\n",
    "\n",
    "Это все может наводить на мысли, что практические задания в курсе располагаются достаточно рано и ученики оказываются к ним не готовы.  \n",
    "\n",
    "\n",
    "Однако все не так однозначно и с теоретическими шагами:\n",
    "1. Только в 38% случаев после просмотра теоретического шага он был успешно решен\n",
    "2. Только 90% пользоватлей зашли хотя бы на один теоретический шаг, что говорит о том, что есть пользователи которые сразу начали прохождение с практического шага и видимо там же его и закончили"
   ]
  },
  {
   "cell_type": "markdown",
   "metadata": {},
   "source": [
    "Теперь уместно отобразить *диаграмму времени жизни ползователя*, чтобы понять насколько долго они остаются на курсе  \n",
    "Однако мы выяснили что половина всей аудитории не возвращается на курс даже на следующий день, поэтому предварительно уместно ббудет исключить пользователей, которые провели в продукте только 1 день"
   ]
  },
  {
   "cell_type": "code",
   "execution_count": 29,
   "metadata": {},
   "outputs": [
    {
     "name": "stdout",
     "output_type": "stream",
     "text": [
      "Количество пользователей, которые лишь однажды зашли на курс: 9708\n"
     ]
    }
   ],
   "source": [
    "one_day_users = events.groupby('user_id').agg({'date': 'nunique'}).reset_index()\n",
    "one_day_users = one_day_users[one_day_users['date'] == 1]['user_id']\n",
    "\n",
    "print(f'Количество пользователей, которые лишь однажды зашли на курс: {one_day_users.shape[0]}')\n"
   ]
  },
  {
   "cell_type": "code",
   "execution_count": 21,
   "metadata": {},
   "outputs": [
    {
     "data": {
      "image/png": "[encoded data removed]",
      "text/plain": [
       "<Figure size 1200x600 with 1 Axes>"
      ]
     },
     "metadata": {},
     "output_type": "display_data"
    }
   ],
   "source": [
    "# Будем считать что пользватель может вернуться если прошло менее 3 недель с момента его последнего действия\n",
    "# Будем отображать только 90 % пользователей с наименьшим временем жизни, чтобы не растягивать хвост графика\n",
    "# Время жизни будем считать в месяцах\n",
    "\n",
    "DescStatsAnalyzer.plot_lifetime_hist(\n",
    "    events_frame.filter(conditions=[f'~user_id.isin({one_day_users.to_list()})']), # Удобно фильтровать по любому количесвту условий\n",
    "    max_return_time=(3, 'W'),\n",
    "    upper_cutoff_quantile=0.9, \n",
    "    plot_period='M',\n",
    "    stat='percent'\n",
    ")"
   ]
  },
  {
   "cell_type": "markdown",
   "metadata": {},
   "source": [
    "\n",
    "Данный график демонстрирует что даже среди тех, кто не ушел в первый же день\n",
    "* примерно 45% остаются только на месяц\n",
    "* примерно 65% не задерживаются дольше чем на два месяца"
   ]
  },
  {
   "cell_type": "markdown",
   "metadata": {},
   "source": [
    "## Посещаемость курса"
   ]
  },
  {
   "cell_type": "code",
   "execution_count": 22,
   "metadata": {},
   "outputs": [],
   "source": [
    "from metrics.metric import MetricDinamic"
   ]
  },
  {
   "cell_type": "markdown",
   "metadata": {},
   "source": [
    "Первая метрика, которую уместно оценить - количество активных пользвателей за разные периоды времени"
   ]
  },
  {
   "cell_type": "code",
   "execution_count": 23,
   "metadata": {},
   "outputs": [],
   "source": [
    "unique_users_formula = lambda data: data.user_id.nunique()\n",
    "\n",
    "active_users = MetricDinamic(\n",
    "    formula=unique_users_formula, \n",
    "    name='unique_users',\n",
    "    description='Количество уникальных пользователей'\n",
    ")"
   ]
  },
  {
   "cell_type": "code",
   "execution_count": 24,
   "metadata": {},
   "outputs": [
    {
     "data": {
      "text/html": [
       "<div>\n",
       "<style scoped>\n",
       "    .dataframe tbody tr th:only-of-type {\n",
       "        vertical-align: middle;\n",
       "    }\n",
       "\n",
       "    .dataframe tbody tr th {\n",
       "        vertical-align: top;\n",
       "    }\n",
       "\n",
       "    .dataframe thead th {\n",
       "        text-align: right;\n",
       "    }\n",
       "</style>\n",
       "<table border=\"1\" class=\"dataframe\">\n",
       "  <thead>\n",
       "    <tr style=\"text-align: right;\">\n",
       "      <th></th>\n",
       "      <th>date</th>\n",
       "      <th>unique_users</th>\n",
       "    </tr>\n",
       "  </thead>\n",
       "  <tbody>\n",
       "    <tr>\n",
       "      <th>0</th>\n",
       "      <td>2015-06-15</td>\n",
       "      <td>705</td>\n",
       "    </tr>\n",
       "    <tr>\n",
       "      <th>1</th>\n",
       "      <td>2015-06-16</td>\n",
       "      <td>526</td>\n",
       "    </tr>\n",
       "    <tr>\n",
       "      <th>2</th>\n",
       "      <td>2015-06-17</td>\n",
       "      <td>440</td>\n",
       "    </tr>\n",
       "    <tr>\n",
       "      <th>3</th>\n",
       "      <td>2015-06-18</td>\n",
       "      <td>411</td>\n",
       "    </tr>\n",
       "    <tr>\n",
       "      <th>4</th>\n",
       "      <td>2015-06-19</td>\n",
       "      <td>377</td>\n",
       "    </tr>\n",
       "    <tr>\n",
       "      <th>...</th>\n",
       "      <td>...</td>\n",
       "      <td>...</td>\n",
       "    </tr>\n",
       "    <tr>\n",
       "      <th>1065</th>\n",
       "      <td>2018-05-15</td>\n",
       "      <td>145</td>\n",
       "    </tr>\n",
       "    <tr>\n",
       "      <th>1066</th>\n",
       "      <td>2018-05-16</td>\n",
       "      <td>155</td>\n",
       "    </tr>\n",
       "    <tr>\n",
       "      <th>1067</th>\n",
       "      <td>2018-05-17</td>\n",
       "      <td>165</td>\n",
       "    </tr>\n",
       "    <tr>\n",
       "      <th>1068</th>\n",
       "      <td>2018-05-18</td>\n",
       "      <td>126</td>\n",
       "    </tr>\n",
       "    <tr>\n",
       "      <th>1069</th>\n",
       "      <td>2018-05-19</td>\n",
       "      <td>131</td>\n",
       "    </tr>\n",
       "  </tbody>\n",
       "</table>\n",
       "<p>1070 rows × 2 columns</p>\n",
       "</div>"
      ],
      "text/plain": [
       "           date  unique_users\n",
       "0    2015-06-15           705\n",
       "1    2015-06-16           526\n",
       "2    2015-06-17           440\n",
       "3    2015-06-18           411\n",
       "4    2015-06-19           377\n",
       "...         ...           ...\n",
       "1065 2018-05-15           145\n",
       "1066 2018-05-16           155\n",
       "1067 2018-05-17           165\n",
       "1068 2018-05-18           126\n",
       "1069 2018-05-19           131\n",
       "\n",
       "[1070 rows x 2 columns]"
      ]
     },
     "execution_count": 24,
     "metadata": {},
     "output_type": "execute_result"
    }
   ],
   "source": [
    "active_users.compute(events_frame, period='D')"
   ]
  },
  {
   "cell_type": "markdown",
   "metadata": {},
   "source": [
    "# Сколько требуется времени чтобы пройти курс\n",
    "\n",
    "Курс пройден, когда решено 85% практических заданий"
   ]
  },
  {
   "cell_type": "code",
   "execution_count": 58,
   "metadata": {},
   "outputs": [],
   "source": [
    "from tooling import Funnel"
   ]
  },
  {
   "cell_type": "code",
   "execution_count": 45,
   "metadata": {},
   "outputs": [],
   "source": [
    "practise_solving_events = events[events['action'] == 'passed_practise']\\\n",
    "    .sort_values(by=['user_id', 'timestamp'])\n",
    "\n",
    "# Оставим только первое успешное решение каждого, без повторных попыток\n",
    "practise_solving_events = practise_solving_events.drop_duplicates(['user_id', 'step_id'], keep='first')"
   ]
  },
  {
   "cell_type": "code",
   "execution_count": 47,
   "metadata": {},
   "outputs": [],
   "source": [
    "practise_solving_events['solved_count'] = practise_solving_events.groupby(['user_id'])['step_id'].cumcount()"
   ]
  },
  {
   "cell_type": "code",
   "execution_count": 50,
   "metadata": {},
   "outputs": [],
   "source": [
    "practise_solving_events['progress'] = practise_solving_events['solved_count']\\\n",
    "    .divide(len(practise_steps)).mul(100).round()"
   ]
  },
  {
   "cell_type": "code",
   "execution_count": 66,
   "metadata": {},
   "outputs": [],
   "source": [
    "# По прогрессу отметим несколько контрольных точек и посмторим какой процент пользователей достигает их\n",
    "\n",
    "def get_control_point(progress):\n",
    "    if progress > 85:\n",
    "        return 85\n",
    "    if progress > 60:\n",
    "        return 60\n",
    "    if progress > 45:\n",
    "        return 45\n",
    "    if progress > 30:\n",
    "        return 30\n",
    "    if progress > 15:\n",
    "        return 15\n",
    "    return 0\n",
    "\n",
    "practise_solving_events['control_point'] = practise_solving_events['progress'].apply(get_control_point)\n",
    "practise_solving_events['control_point'] = practise_solving_events['control_point'].astype(str)\n",
    "\n",
    "# Создадим набор данных, в котором событием будет событие получения контрольной точки\n",
    "checkpoints = EventFrame(\n",
    "    practise_solving_events,\n",
    "    cols_schema={\n",
    "        'user_id': 'user_id',\n",
    "        'event_name': 'control_point',\n",
    "        'event_timestamp': 'timestamp'\n",
    "    }\n",
    ")"
   ]
  },
  {
   "cell_type": "code",
   "execution_count": 67,
   "metadata": {},
   "outputs": [
    {
     "data": {
      "text/plain": [
       "EventFrame(data=216442 rows, columns=['step_id', 'timestamp', 'action', 'user_id', 'date', 'step_status', 'solved_count', 'progress', 'course_passed', 'control_point', 'event_id', 'event_type', 'event_type_index'])"
      ]
     },
     "execution_count": 67,
     "metadata": {},
     "output_type": "execute_result"
    }
   ],
   "source": [
    "checkpoints"
   ]
  },
  {
   "cell_type": "code",
   "execution_count": 68,
   "metadata": {},
   "outputs": [],
   "source": [
    "funnel = Funnel()"
   ]
  },
  {
   "cell_type": "code",
   "execution_count": 74,
   "metadata": {},
   "outputs": [
    {
     "data": {
      "application/vnd.plotly.v1+json": {
       "config": {
        "plotlyServerURL": "https://plot.ly"
       },
       "data": [
        {
         "name": "all_users",
         "orientation": "h",
         "textinfo": "value+percent initial+percent previous",
         "type": "funnel",
         "x": {
          "bdata": "QialEV4MaAgIB54F",
          "dtype": "i2"
         },
         "y": [
          "Достигли прогресса в 0% ",
          "Достигли прогресса в 15% ",
          "Достигли прогресса в 30% ",
          "Достигли прогресса в 45% ",
          "Достигли прогресса в 60% ",
          "Достигли прогресса в 85% "
         ]
        }
       ],
       "layout": {
        "template": {
         "data": {
          "bar": [
           {
            "error_x": {
             "color": "#2a3f5f"
            },
            "error_y": {
             "color": "#2a3f5f"
            },
            "marker": {
             "line": {
              "color": "#E5ECF6",
              "width": 0.5
             },
             "pattern": {
              "fillmode": "overlay",
              "size": 10,
              "solidity": 0.2
             }
            },
            "type": "bar"
           }
          ],
          "barpolar": [
           {
            "marker": {
             "line": {
              "color": "#E5ECF6",
              "width": 0.5
             },
             "pattern": {
              "fillmode": "overlay",
              "size": 10,
              "solidity": 0.2
             }
            },
            "type": "barpolar"
           }
          ],
          "carpet": [
           {
            "aaxis": {
             "endlinecolor": "#2a3f5f",
             "gridcolor": "white",
             "linecolor": "white",
             "minorgridcolor": "white",
             "startlinecolor": "#2a3f5f"
            },
            "baxis": {
             "endlinecolor": "#2a3f5f",
             "gridcolor": "white",
             "linecolor": "white",
             "minorgridcolor": "white",
             "startlinecolor": "#2a3f5f"
            },
            "type": "carpet"
           }
          ],
          "choropleth": [
           {
            "colorbar": {
             "outlinewidth": 0,
             "ticks": ""
            },
            "type": "choropleth"
           }
          ],
          "contour": [
           {
            "colorbar": {
             "outlinewidth": 0,
             "ticks": ""
            },
            "colorscale": [
             [
              0,
              "#0d0887"
             ],
             [
              0.1111111111111111,
              "#46039f"
             ],
             [
              0.2222222222222222,
              "#7201a8"
             ],
             [
              0.3333333333333333,
              "#9c179e"
             ],
             [
              0.4444444444444444,
              "#bd3786"
             ],
             [
              0.5555555555555556,
              "#d8576b"
             ],
             [
              0.6666666666666666,
              "#ed7953"
             ],
             [
              0.7777777777777778,
              "#fb9f3a"
             ],
             [
              0.8888888888888888,
              "#fdca26"
             ],
             [
              1,
              "#f0f921"
             ]
            ],
            "type": "contour"
           }
          ],
          "contourcarpet": [
           {
            "colorbar": {
             "outlinewidth": 0,
             "ticks": ""
            },
            "type": "contourcarpet"
           }
          ],
          "heatmap": [
           {
            "colorbar": {
             "outlinewidth": 0,
             "ticks": ""
            },
            "colorscale": [
             [
              0,
              "#0d0887"
             ],
             [
              0.1111111111111111,
              "#46039f"
             ],
             [
              0.2222222222222222,
              "#7201a8"
             ],
             [
              0.3333333333333333,
              "#9c179e"
             ],
             [
              0.4444444444444444,
              "#bd3786"
             ],
             [
              0.5555555555555556,
              "#d8576b"
             ],
             [
              0.6666666666666666,
              "#ed7953"
             ],
             [
              0.7777777777777778,
              "#fb9f3a"
             ],
             [
              0.8888888888888888,
              "#fdca26"
             ],
             [
              1,
              "#f0f921"
             ]
            ],
            "type": "heatmap"
           }
          ],
          "histogram": [
           {
            "marker": {
             "pattern": {
              "fillmode": "overlay",
              "size": 10,
              "solidity": 0.2
             }
            },
            "type": "histogram"
           }
          ],
          "histogram2d": [
           {
            "colorbar": {
             "outlinewidth": 0,
             "ticks": ""
            },
            "colorscale": [
             [
              0,
              "#0d0887"
             ],
             [
              0.1111111111111111,
              "#46039f"
             ],
             [
              0.2222222222222222,
              "#7201a8"
             ],
             [
              0.3333333333333333,
              "#9c179e"
             ],
             [
              0.4444444444444444,
              "#bd3786"
             ],
             [
              0.5555555555555556,
              "#d8576b"
             ],
             [
              0.6666666666666666,
              "#ed7953"
             ],
             [
              0.7777777777777778,
              "#fb9f3a"
             ],
             [
              0.8888888888888888,
              "#fdca26"
             ],
             [
              1,
              "#f0f921"
             ]
            ],
            "type": "histogram2d"
           }
          ],
          "histogram2dcontour": [
           {
            "colorbar": {
             "outlinewidth": 0,
             "ticks": ""
            },
            "colorscale": [
             [
              0,
              "#0d0887"
             ],
             [
              0.1111111111111111,
              "#46039f"
             ],
             [
              0.2222222222222222,
              "#7201a8"
             ],
             [
              0.3333333333333333,
              "#9c179e"
             ],
             [
              0.4444444444444444,
              "#bd3786"
             ],
             [
              0.5555555555555556,
              "#d8576b"
             ],
             [
              0.6666666666666666,
              "#ed7953"
             ],
             [
              0.7777777777777778,
              "#fb9f3a"
             ],
             [
              0.8888888888888888,
              "#fdca26"
             ],
             [
              1,
              "#f0f921"
             ]
            ],
            "type": "histogram2dcontour"
           }
          ],
          "mesh3d": [
           {
            "colorbar": {
             "outlinewidth": 0,
             "ticks": ""
            },
            "type": "mesh3d"
           }
          ],
          "parcoords": [
           {
            "line": {
             "colorbar": {
              "outlinewidth": 0,
              "ticks": ""
             }
            },
            "type": "parcoords"
           }
          ],
          "pie": [
           {
            "automargin": true,
            "type": "pie"
           }
          ],
          "scatter": [
           {
            "fillpattern": {
             "fillmode": "overlay",
             "size": 10,
             "solidity": 0.2
            },
            "type": "scatter"
           }
          ],
          "scatter3d": [
           {
            "line": {
             "colorbar": {
              "outlinewidth": 0,
              "ticks": ""
             }
            },
            "marker": {
             "colorbar": {
              "outlinewidth": 0,
              "ticks": ""
             }
            },
            "type": "scatter3d"
           }
          ],
          "scattercarpet": [
           {
            "marker": {
             "colorbar": {
              "outlinewidth": 0,
              "ticks": ""
             }
            },
            "type": "scattercarpet"
           }
          ],
          "scattergeo": [
           {
            "marker": {
             "colorbar": {
              "outlinewidth": 0,
              "ticks": ""
             }
            },
            "type": "scattergeo"
           }
          ],
          "scattergl": [
           {
            "marker": {
             "colorbar": {
              "outlinewidth": 0,
              "ticks": ""
             }
            },
            "type": "scattergl"
           }
          ],
          "scattermap": [
           {
            "marker": {
             "colorbar": {
              "outlinewidth": 0,
              "ticks": ""
             }
            },
            "type": "scattermap"
           }
          ],
          "scattermapbox": [
           {
            "marker": {
             "colorbar": {
              "outlinewidth": 0,
              "ticks": ""
             }
            },
            "type": "scattermapbox"
           }
          ],
          "scatterpolar": [
           {
            "marker": {
             "colorbar": {
              "outlinewidth": 0,
              "ticks": ""
             }
            },
            "type": "scatterpolar"
           }
          ],
          "scatterpolargl": [
           {
            "marker": {
             "colorbar": {
              "outlinewidth": 0,
              "ticks": ""
             }
            },
            "type": "scatterpolargl"
           }
          ],
          "scatterternary": [
           {
            "marker": {
             "colorbar": {
              "outlinewidth": 0,
              "ticks": ""
             }
            },
            "type": "scatterternary"
           }
          ],
          "surface": [
           {
            "colorbar": {
             "outlinewidth": 0,
             "ticks": ""
            },
            "colorscale": [
             [
              0,
              "#0d0887"
             ],
             [
              0.1111111111111111,
              "#46039f"
             ],
             [
              0.2222222222222222,
              "#7201a8"
             ],
             [
              0.3333333333333333,
              "#9c179e"
             ],
             [
              0.4444444444444444,
              "#bd3786"
             ],
             [
              0.5555555555555556,
              "#d8576b"
             ],
             [
              0.6666666666666666,
              "#ed7953"
             ],
             [
              0.7777777777777778,
              "#fb9f3a"
             ],
             [
              0.8888888888888888,
              "#fdca26"
             ],
             [
              1,
              "#f0f921"
             ]
            ],
            "type": "surface"
           }
          ],
          "table": [
           {
            "cells": {
             "fill": {
              "color": "#EBF0F8"
             },
             "line": {
              "color": "white"
             }
            },
            "header": {
             "fill": {
              "color": "#C8D4E3"
             },
             "line": {
              "color": "white"
             }
            },
            "type": "table"
           }
          ]
         },
         "layout": {
          "annotationdefaults": {
           "arrowcolor": "#2a3f5f",
           "arrowhead": 0,
           "arrowwidth": 1
          },
          "autotypenumbers": "strict",
          "coloraxis": {
           "colorbar": {
            "outlinewidth": 0,
            "ticks": ""
           }
          },
          "colorscale": {
           "diverging": [
            [
             0,
             "#8e0152"
            ],
            [
             0.1,
             "#c51b7d"
            ],
            [
             0.2,
             "#de77ae"
            ],
            [
             0.3,
             "#f1b6da"
            ],
            [
             0.4,
             "#fde0ef"
            ],
            [
             0.5,
             "#f7f7f7"
            ],
            [
             0.6,
             "#e6f5d0"
            ],
            [
             0.7,
             "#b8e186"
            ],
            [
             0.8,
             "#7fbc41"
            ],
            [
             0.9,
             "#4d9221"
            ],
            [
             1,
             "#276419"
            ]
           ],
           "sequential": [
            [
             0,
             "#0d0887"
            ],
            [
             0.1111111111111111,
             "#46039f"
            ],
            [
             0.2222222222222222,
             "#7201a8"
            ],
            [
             0.3333333333333333,
             "#9c179e"
            ],
            [
             0.4444444444444444,
             "#bd3786"
            ],
            [
             0.5555555555555556,
             "#d8576b"
            ],
            [
             0.6666666666666666,
             "#ed7953"
            ],
            [
             0.7777777777777778,
             "#fb9f3a"
            ],
            [
             0.8888888888888888,
             "#fdca26"
            ],
            [
             1,
             "#f0f921"
            ]
           ],
           "sequentialminus": [
            [
             0,
             "#0d0887"
            ],
            [
             0.1111111111111111,
             "#46039f"
            ],
            [
             0.2222222222222222,
             "#7201a8"
            ],
            [
             0.3333333333333333,
             "#9c179e"
            ],
            [
             0.4444444444444444,
             "#bd3786"
            ],
            [
             0.5555555555555556,
             "#d8576b"
            ],
            [
             0.6666666666666666,
             "#ed7953"
            ],
            [
             0.7777777777777778,
             "#fb9f3a"
            ],
            [
             0.8888888888888888,
             "#fdca26"
            ],
            [
             1,
             "#f0f921"
            ]
           ]
          },
          "colorway": [
           "#636efa",
           "#EF553B",
           "#00cc96",
           "#ab63fa",
           "#FFA15A",
           "#19d3f3",
           "#FF6692",
           "#B6E880",
           "#FF97FF",
           "#FECB52"
          ],
          "font": {
           "color": "#2a3f5f"
          },
          "geo": {
           "bgcolor": "white",
           "lakecolor": "white",
           "landcolor": "#E5ECF6",
           "showlakes": true,
           "showland": true,
           "subunitcolor": "white"
          },
          "hoverlabel": {
           "align": "left"
          },
          "hovermode": "closest",
          "mapbox": {
           "style": "light"
          },
          "paper_bgcolor": "white",
          "plot_bgcolor": "#E5ECF6",
          "polar": {
           "angularaxis": {
            "gridcolor": "white",
            "linecolor": "white",
            "ticks": ""
           },
           "bgcolor": "#E5ECF6",
           "radialaxis": {
            "gridcolor": "white",
            "linecolor": "white",
            "ticks": ""
           }
          },
          "scene": {
           "xaxis": {
            "backgroundcolor": "#E5ECF6",
            "gridcolor": "white",
            "gridwidth": 2,
            "linecolor": "white",
            "showbackground": true,
            "ticks": "",
            "zerolinecolor": "white"
           },
           "yaxis": {
            "backgroundcolor": "#E5ECF6",
            "gridcolor": "white",
            "gridwidth": 2,
            "linecolor": "white",
            "showbackground": true,
            "ticks": "",
            "zerolinecolor": "white"
           },
           "zaxis": {
            "backgroundcolor": "#E5ECF6",
            "gridcolor": "white",
            "gridwidth": 2,
            "linecolor": "white",
            "showbackground": true,
            "ticks": "",
            "zerolinecolor": "white"
           }
          },
          "shapedefaults": {
           "line": {
            "color": "#2a3f5f"
           }
          },
          "ternary": {
           "aaxis": {
            "gridcolor": "white",
            "linecolor": "white",
            "ticks": ""
           },
           "baxis": {
            "gridcolor": "white",
            "linecolor": "white",
            "ticks": ""
           },
           "bgcolor": "#E5ECF6",
           "caxis": {
            "gridcolor": "white",
            "linecolor": "white",
            "ticks": ""
           }
          },
          "title": {
           "x": 0.05
          },
          "xaxis": {
           "automargin": true,
           "gridcolor": "white",
           "linecolor": "white",
           "ticks": "",
           "title": {
            "standoff": 15
           },
           "zerolinecolor": "white",
           "zerolinewidth": 2
          },
          "yaxis": {
           "automargin": true,
           "gridcolor": "white",
           "linecolor": "white",
           "ticks": "",
           "title": {
            "standoff": 15
           },
           "zerolinecolor": "white",
           "zerolinewidth": 2
          }
         }
        }
       }
      }
     },
     "metadata": {},
     "output_type": "display_data"
    }
   ],
   "source": [
    "funnel.plot(\n",
    "    checkpoints,\n",
    "    stages=list(map(str, [0, 15, 30, 45, 60, 85])),\n",
    "    stages_names=list(map(lambda progress: f'Достигли прогресса в {progress}% ', [0, 15, 30, 45, 60, 85])),\n",
    ")"
   ]
  },
  {
   "cell_type": "code",
   "execution_count": 51,
   "metadata": {},
   "outputs": [],
   "source": [
    "practise_solving_events['course_passed'] = practise_solving_events['solved_count'] >= 0.85 * len(practise_steps)"
   ]
  },
  {
   "cell_type": "markdown",
   "metadata": {},
   "source": [
    "FUNNEl"
   ]
  },
  {
   "cell_type": "code",
   "execution_count": 28,
   "metadata": {},
   "outputs": [],
   "source": [
    "days_to_pass = pd.merge(\n",
    "    # Время когда пользователь успешло прошел курс\n",
    "    practise_solving_events[practise_solving_events['course_passed']].groupby('user_id').head(1),\n",
    "    # Время когда пользователь первый раз заходил на курс\n",
    "    events.groupby('user_id')['timestamp'].min()\\\n",
    "        .reset_index().rename(columns={'timestamp': 'first_action_time'}),\n",
    "    how='inner',\n",
    "    on='user_id'\n",
    ").assign(days_to_pass= lambda df: (df['timestamp'] - df['first_action_time']).dt.days)\\\n",
    "    .loc[:, ('user_id', 'days_to_pass')]"
   ]
  },
  {
   "cell_type": "code",
   "execution_count": 29,
   "metadata": {},
   "outputs": [
    {
     "data": {
      "image/png": "[encoded data removed]",
      "text/plain": [
       "<Figure size 1200x500 with 1 Axes>"
      ]
     },
     "metadata": {},
     "output_type": "display_data"
    }
   ],
   "source": [
    "fig, ax = plt.subplots(figsize=(12, 5))\n",
    "sns.histplot(days_to_pass['days_to_pass'], bins=30, kde=True, ax=ax)\n",
    "\n",
    "q50 = days_to_pass['days_to_pass'].quantile(0.5)\n",
    "ax.axvline(x=q50, color='r', label=f'Медианное время: {q50:.0f} дней', linestyle='--')\n",
    "\n",
    "q70 = days_to_pass['days_to_pass'].quantile(0.7)\n",
    "ax.axvline(x=q70, color='r', label=f'70% квантиль: {q70:.0f} дней', linestyle='--')\n",
    "\n",
    "q90 = days_to_pass['days_to_pass'].quantile(0.9)\n",
    "ax.axvline(x=q90, color='r', label=f'90% квантиль: {q90:.0f} дней', linestyle='--')\n",
    "\n",
    "ax.set_title('Время за которое пользователи прошли курс', fontsize=18)\n",
    "ax.legend()\n",
    "\n",
    "plt.tight_layout()"
   ]
  },
  {
   "cell_type": "markdown",
   "metadata": {},
   "source": [
    "# Когортный анализ"
   ]
  },
  {
   "cell_type": "code",
   "execution_count": 30,
   "metadata": {},
   "outputs": [],
   "source": [
    "from tooling import Cohorts"
   ]
  },
  {
   "cell_type": "code",
   "execution_count": 31,
   "metadata": {},
   "outputs": [],
   "source": [
    "cohorts = Cohorts()"
   ]
  },
  {
   "cell_type": "code",
   "execution_count": 32,
   "metadata": {},
   "outputs": [],
   "source": [
    "# Расчет будет производиться по месяцам\n",
    "# параметр normalize отвечает за то чтобы считатть не абсолютное количество пользователей, а оставшихся \n",
    "# относительно тех, кто был в группе в начале периода\n",
    "# Чтобы получить абсолютное количество пользователей достаточно установить normalize в False\n",
    "\n",
    "time_unit_cohorts_tabele = cohorts.fit(\n",
    "    events_frame, \n",
    "    cohort_period='M', \n",
    "    normalize=True\n",
    ")"
   ]
  },
  {
   "cell_type": "code",
   "execution_count": 33,
   "metadata": {},
   "outputs": [
    {
     "data": {
      "text/html": [
       "<div>\n",
       "<style scoped>\n",
       "    .dataframe tbody tr th:only-of-type {\n",
       "        vertical-align: middle;\n",
       "    }\n",
       "\n",
       "    .dataframe tbody tr th {\n",
       "        vertical-align: top;\n",
       "    }\n",
       "\n",
       "    .dataframe thead th {\n",
       "        text-align: right;\n",
       "    }\n",
       "</style>\n",
       "<table border=\"1\" class=\"dataframe\">\n",
       "  <thead>\n",
       "    <tr style=\"text-align: right;\">\n",
       "      <th>cohort_time_unit</th>\n",
       "      <th>2015-06-01</th>\n",
       "      <th>2015-07-01</th>\n",
       "      <th>2015-08-01</th>\n",
       "      <th>2015-09-01</th>\n",
       "      <th>2015-10-01</th>\n",
       "      <th>2015-11-01</th>\n",
       "      <th>2015-12-01</th>\n",
       "      <th>2016-01-01</th>\n",
       "      <th>2016-02-01</th>\n",
       "      <th>2016-03-01</th>\n",
       "      <th>...</th>\n",
       "      <th>2017-08-01</th>\n",
       "      <th>2017-09-01</th>\n",
       "      <th>2017-10-01</th>\n",
       "      <th>2017-11-01</th>\n",
       "      <th>2017-12-01</th>\n",
       "      <th>2018-01-01</th>\n",
       "      <th>2018-02-01</th>\n",
       "      <th>2018-03-01</th>\n",
       "      <th>2018-04-01</th>\n",
       "      <th>2018-05-01</th>\n",
       "    </tr>\n",
       "    <tr>\n",
       "      <th>cohort_group</th>\n",
       "      <th></th>\n",
       "      <th></th>\n",
       "      <th></th>\n",
       "      <th></th>\n",
       "      <th></th>\n",
       "      <th></th>\n",
       "      <th></th>\n",
       "      <th></th>\n",
       "      <th></th>\n",
       "      <th></th>\n",
       "      <th></th>\n",
       "      <th></th>\n",
       "      <th></th>\n",
       "      <th></th>\n",
       "      <th></th>\n",
       "      <th></th>\n",
       "      <th></th>\n",
       "      <th></th>\n",
       "      <th></th>\n",
       "      <th></th>\n",
       "      <th></th>\n",
       "    </tr>\n",
       "  </thead>\n",
       "  <tbody>\n",
       "    <tr>\n",
       "      <th>2015-06-01</th>\n",
       "      <td>1.0</td>\n",
       "      <td>0.5065</td>\n",
       "      <td>0.108329</td>\n",
       "      <td>0.087626</td>\n",
       "      <td>0.090997</td>\n",
       "      <td>0.063072</td>\n",
       "      <td>0.047183</td>\n",
       "      <td>0.040924</td>\n",
       "      <td>0.054405</td>\n",
       "      <td>0.064998</td>\n",
       "      <td>...</td>\n",
       "      <td>0.021184</td>\n",
       "      <td>0.025999</td>\n",
       "      <td>0.020703</td>\n",
       "      <td>0.023110</td>\n",
       "      <td>0.017333</td>\n",
       "      <td>0.017814</td>\n",
       "      <td>0.019740</td>\n",
       "      <td>0.019259</td>\n",
       "      <td>0.020703</td>\n",
       "      <td>0.010592</td>\n",
       "    </tr>\n",
       "    <tr>\n",
       "      <th>2015-07-01</th>\n",
       "      <td>NaN</td>\n",
       "      <td>1.0000</td>\n",
       "      <td>0.082613</td>\n",
       "      <td>0.048991</td>\n",
       "      <td>0.039385</td>\n",
       "      <td>0.020173</td>\n",
       "      <td>0.016330</td>\n",
       "      <td>0.017291</td>\n",
       "      <td>0.028818</td>\n",
       "      <td>0.015370</td>\n",
       "      <td>...</td>\n",
       "      <td>0.004803</td>\n",
       "      <td>0.009606</td>\n",
       "      <td>0.007685</td>\n",
       "      <td>0.006724</td>\n",
       "      <td>0.007685</td>\n",
       "      <td>0.005764</td>\n",
       "      <td>0.006724</td>\n",
       "      <td>0.008646</td>\n",
       "      <td>0.005764</td>\n",
       "      <td>0.001921</td>\n",
       "    </tr>\n",
       "    <tr>\n",
       "      <th>2015-08-01</th>\n",
       "      <td>NaN</td>\n",
       "      <td>NaN</td>\n",
       "      <td>1.000000</td>\n",
       "      <td>0.167224</td>\n",
       "      <td>0.120401</td>\n",
       "      <td>0.043478</td>\n",
       "      <td>0.026756</td>\n",
       "      <td>0.040134</td>\n",
       "      <td>0.033445</td>\n",
       "      <td>0.030100</td>\n",
       "      <td>...</td>\n",
       "      <td>0.016722</td>\n",
       "      <td>0.000000</td>\n",
       "      <td>0.010033</td>\n",
       "      <td>0.006689</td>\n",
       "      <td>0.006689</td>\n",
       "      <td>0.010033</td>\n",
       "      <td>0.006689</td>\n",
       "      <td>0.006689</td>\n",
       "      <td>0.000000</td>\n",
       "      <td>0.003344</td>\n",
       "    </tr>\n",
       "    <tr>\n",
       "      <th>2015-09-01</th>\n",
       "      <td>NaN</td>\n",
       "      <td>NaN</td>\n",
       "      <td>NaN</td>\n",
       "      <td>1.000000</td>\n",
       "      <td>0.149220</td>\n",
       "      <td>0.086860</td>\n",
       "      <td>0.048998</td>\n",
       "      <td>0.013363</td>\n",
       "      <td>0.022272</td>\n",
       "      <td>0.031180</td>\n",
       "      <td>...</td>\n",
       "      <td>0.011136</td>\n",
       "      <td>0.002227</td>\n",
       "      <td>0.006682</td>\n",
       "      <td>0.015590</td>\n",
       "      <td>0.011136</td>\n",
       "      <td>0.013363</td>\n",
       "      <td>0.011136</td>\n",
       "      <td>0.015590</td>\n",
       "      <td>0.006682</td>\n",
       "      <td>0.008909</td>\n",
       "    </tr>\n",
       "    <tr>\n",
       "      <th>2015-10-01</th>\n",
       "      <td>NaN</td>\n",
       "      <td>NaN</td>\n",
       "      <td>NaN</td>\n",
       "      <td>NaN</td>\n",
       "      <td>1.000000</td>\n",
       "      <td>0.189459</td>\n",
       "      <td>0.091168</td>\n",
       "      <td>0.042735</td>\n",
       "      <td>0.045584</td>\n",
       "      <td>0.044160</td>\n",
       "      <td>...</td>\n",
       "      <td>0.008547</td>\n",
       "      <td>0.009972</td>\n",
       "      <td>0.017094</td>\n",
       "      <td>0.018519</td>\n",
       "      <td>0.012821</td>\n",
       "      <td>0.009972</td>\n",
       "      <td>0.007123</td>\n",
       "      <td>0.014245</td>\n",
       "      <td>0.011396</td>\n",
       "      <td>0.008547</td>\n",
       "    </tr>\n",
       "  </tbody>\n",
       "</table>\n",
       "<p>5 rows × 36 columns</p>\n",
       "</div>"
      ],
      "text/plain": [
       "cohort_time_unit  2015-06-01  2015-07-01  2015-08-01  2015-09-01  2015-10-01  \\\n",
       "cohort_group                                                                   \n",
       "2015-06-01               1.0      0.5065    0.108329    0.087626    0.090997   \n",
       "2015-07-01               NaN      1.0000    0.082613    0.048991    0.039385   \n",
       "2015-08-01               NaN         NaN    1.000000    0.167224    0.120401   \n",
       "2015-09-01               NaN         NaN         NaN    1.000000    0.149220   \n",
       "2015-10-01               NaN         NaN         NaN         NaN    1.000000   \n",
       "\n",
       "cohort_time_unit  2015-11-01  2015-12-01  2016-01-01  2016-02-01  2016-03-01  \\\n",
       "cohort_group                                                                   \n",
       "2015-06-01          0.063072    0.047183    0.040924    0.054405    0.064998   \n",
       "2015-07-01          0.020173    0.016330    0.017291    0.028818    0.015370   \n",
       "2015-08-01          0.043478    0.026756    0.040134    0.033445    0.030100   \n",
       "2015-09-01          0.086860    0.048998    0.013363    0.022272    0.031180   \n",
       "2015-10-01          0.189459    0.091168    0.042735    0.045584    0.044160   \n",
       "\n",
       "cohort_time_unit  ...  2017-08-01  2017-09-01  2017-10-01  2017-11-01  \\\n",
       "cohort_group      ...                                                   \n",
       "2015-06-01        ...    0.021184    0.025999    0.020703    0.023110   \n",
       "2015-07-01        ...    0.004803    0.009606    0.007685    0.006724   \n",
       "2015-08-01        ...    0.016722    0.000000    0.010033    0.006689   \n",
       "2015-09-01        ...    0.011136    0.002227    0.006682    0.015590   \n",
       "2015-10-01        ...    0.008547    0.009972    0.017094    0.018519   \n",
       "\n",
       "cohort_time_unit  2017-12-01  2018-01-01  2018-02-01  2018-03-01  2018-04-01  \\\n",
       "cohort_group                                                                   \n",
       "2015-06-01          0.017333    0.017814    0.019740    0.019259    0.020703   \n",
       "2015-07-01          0.007685    0.005764    0.006724    0.008646    0.005764   \n",
       "2015-08-01          0.006689    0.010033    0.006689    0.006689    0.000000   \n",
       "2015-09-01          0.011136    0.013363    0.011136    0.015590    0.006682   \n",
       "2015-10-01          0.012821    0.009972    0.007123    0.014245    0.011396   \n",
       "\n",
       "cohort_time_unit  2018-05-01  \n",
       "cohort_group                  \n",
       "2015-06-01          0.010592  \n",
       "2015-07-01          0.001921  \n",
       "2015-08-01          0.003344  \n",
       "2015-09-01          0.008909  \n",
       "2015-10-01          0.008547  \n",
       "\n",
       "[5 rows x 36 columns]"
      ]
     },
     "execution_count": 33,
     "metadata": {},
     "output_type": "execute_result"
    }
   ],
   "source": [
    "# Пример полученной когортной таблицы\n",
    "time_unit_cohorts_tabele.head()"
   ]
  },
  {
   "cell_type": "code",
   "execution_count": 34,
   "metadata": {},
   "outputs": [
    {
     "data": {
      "image/png": "[encoded data removed]",
      "text/plain": [
       "<Figure size 1600x600 with 2 Axes>"
      ]
     },
     "metadata": {},
     "output_type": "display_data"
    }
   ],
   "source": [
    "cohorts.plot(max_cohort='2016-12-12', max_time_unit='2018-01-01', cmap=sns.cubehelix_palette(as_cmap=True))"
   ]
  },
  {
   "cell_type": "markdown",
   "metadata": {},
   "source": [
    "Данный график демонстрирует \n",
    "* спустя месяц от поступления на курс чаще всего остается только одня пятая от изначальной аудитории\n",
    "* Спустя два месяца и боле остаются уже только единичные заходы\n",
    "\n",
    "Для более детального понимания удобно бцдет оценивать кагорты ни месяцу, а по количеству периодов, прошедших с первого визита  \n",
    "Также уместно рассчитать когорты по неделям, т.к. это можетоказаться более репрезентативно"
   ]
  },
  {
   "cell_type": "code",
   "execution_count": 35,
   "metadata": {},
   "outputs": [
    {
     "data": {
      "image/png": "[encoded data removed]",
      "text/plain": [
       "<Figure size 1600x600 with 2 Axes>"
      ]
     },
     "metadata": {},
     "output_type": "display_data"
    }
   ],
   "source": [
    "# cohorts.fit(\n",
    "#     events_frame, \n",
    "#     represent_by='period', # Количество периодов после первого визита в продукт\n",
    "#     cohort_period='W', \n",
    "#     normalize=True\n",
    "# )\n",
    "\n",
    "cohorts.plot(min_cohort='2017-06-01', max_cohort='2018-01-01', min_period=1, max_period=10, cmap=sns.cubehelix_palette(as_cmap=True))"
   ]
  },
  {
   "cell_type": "markdown",
   "metadata": {},
   "source": [
    "* В большинстве случаев к концу первой ндели на курсе остается только треть учеников\n",
    "* К концу второй недели остается только шестая часть\n",
    "* Спуся еще неделю аудитория меняется не значительно, что говорит о том, что за две недели удается вовлечь и замотивировать учеников \n",
    "* На четвертой неделе начинается спад аудитории, а после пятой возвращаются уже крайне редко.\n",
    "\n",
    "Что это значит:  \n",
    "Это нормально, что в первую недели отсеиваются две трети пользователей, т.к. многие могут понять что материал не для них  \n",
    "Плохо то, что за вторую неделю отваливается почти половина от оставшихся, ведь эта часть аудитории, которая смогла проучится неделю, но так и не нашла для себя мотивацию продолжать  \n",
    "4 недели достаточно для прохождения курса, поэтому снижение аудитории после этого рубежа также нормально"
   ]
  },
  {
   "cell_type": "markdown",
   "metadata": {},
   "source": [
    "# Почему пользователи уходят в первый же день"
   ]
  },
  {
   "cell_type": "markdown",
   "metadata": {},
   "source": [
    "Ранее удалось выяснить что после первого же дня уходят 50% пользователей  \n",
    "Необходимо вяснить как они ведут себя в течении первого дня, с какими тружностями сталкиваются и что становится поводом уйти\n",
    "\n",
    "Для выяснение этих вопросов уместно использовать пошаговые матрицы действий и диаграммы потока"
   ]
  },
  {
   "cell_type": "code",
   "execution_count": 16,
   "metadata": {},
   "outputs": [],
   "source": [
    "from ux_researching import StepMatrix, StepSankey\n",
    "from data_preprocessing import SplitSessionsPreprocessor"
   ]
  },
  {
   "cell_type": "code",
   "execution_count": 17,
   "metadata": {},
   "outputs": [],
   "source": [
    "first_day_events = pd.merge(\n",
    "    # Все события\n",
    "    events,\n",
    "    # Дата первого визита на курс для пользователя\n",
    "    events.groupby('user_id')['timestamp'].min().dt.date\\\n",
    "        .reset_index().rename(columns={'timestamp': 'first_action_date'}),\n",
    "    how='inner',\n",
    "    on='user_id'\n",
    ").query('first_action_date==date')"
   ]
  },
  {
   "cell_type": "code",
   "execution_count": 30,
   "metadata": {},
   "outputs": [],
   "source": [
    "# Создаем фрейм событий и передаем в него данные о событиях и схему соответсвия колонок\n",
    "one_day_users_events = EventFrame(\n",
    "    events[events['user_id'].isin(one_day_users)], \n",
    "    cols_schema=cols_schema\n",
    ")"
   ]
  },
  {
   "cell_type": "code",
   "execution_count": 31,
   "metadata": {},
   "outputs": [],
   "source": [
    "# Доабвляем информацию о сессиях \n",
    "# Учитывая контекст уместно предположить что перерыв более 30 минут означает прерывание сессии\n",
    "\n",
    "session_spliter = SplitSessionsPreprocessor(timeout=(30, 'M'))"
   ]
  },
  {
   "cell_type": "code",
   "execution_count": 36,
   "metadata": {},
   "outputs": [],
   "source": [
    "one_day_users_events = session_spliter.apply(one_day_users_events)"
   ]
  },
  {
   "cell_type": "code",
   "execution_count": 37,
   "metadata": {},
   "outputs": [
    {
     "data": {
      "text/html": [
       "<div>\n",
       "<style scoped>\n",
       "    .dataframe tbody tr th:only-of-type {\n",
       "        vertical-align: middle;\n",
       "    }\n",
       "\n",
       "    .dataframe tbody tr th {\n",
       "        vertical-align: top;\n",
       "    }\n",
       "\n",
       "    .dataframe thead th {\n",
       "        text-align: right;\n",
       "    }\n",
       "</style>\n",
       "<table border=\"1\" class=\"dataframe\">\n",
       "  <thead>\n",
       "    <tr style=\"text-align: right;\">\n",
       "      <th></th>\n",
       "      <th>step_id</th>\n",
       "      <th>timestamp</th>\n",
       "      <th>action</th>\n",
       "      <th>user_id</th>\n",
       "      <th>date</th>\n",
       "      <th>step_status</th>\n",
       "      <th>event_id</th>\n",
       "      <th>event_type</th>\n",
       "      <th>event_type_index</th>\n",
       "      <th>session_id</th>\n",
       "    </tr>\n",
       "  </thead>\n",
       "  <tbody>\n",
       "    <tr>\n",
       "      <th>1347416</th>\n",
       "      <td>31981</td>\n",
       "      <td>2016-09-02 14:44:24</td>\n",
       "      <td>session_start</td>\n",
       "      <td>1</td>\n",
       "      <td>2016-09-02</td>\n",
       "      <td>practise</td>\n",
       "      <td>1_1session_start</td>\n",
       "      <td>session_start</td>\n",
       "      <td>1</td>\n",
       "      <td>1_1</td>\n",
       "    </tr>\n",
       "    <tr>\n",
       "      <th>1347416</th>\n",
       "      <td>31981</td>\n",
       "      <td>2016-09-02 14:44:24</td>\n",
       "      <td>viewed_practise</td>\n",
       "      <td>1</td>\n",
       "      <td>2016-09-02</td>\n",
       "      <td>practise</td>\n",
       "      <td>0</td>\n",
       "      <td>raw</td>\n",
       "      <td>2</td>\n",
       "      <td>1_1</td>\n",
       "    </tr>\n",
       "    <tr>\n",
       "      <th>1347417</th>\n",
       "      <td>31981</td>\n",
       "      <td>2016-09-02 14:44:24</td>\n",
       "      <td>discovered_practise</td>\n",
       "      <td>1</td>\n",
       "      <td>2016-09-02</td>\n",
       "      <td>practise</td>\n",
       "      <td>1</td>\n",
       "      <td>raw</td>\n",
       "      <td>2</td>\n",
       "      <td>1_1</td>\n",
       "    </tr>\n",
       "    <tr>\n",
       "      <th>1347417</th>\n",
       "      <td>31981</td>\n",
       "      <td>2016-09-02 14:44:24</td>\n",
       "      <td>session_end</td>\n",
       "      <td>1</td>\n",
       "      <td>2016-09-02</td>\n",
       "      <td>practise</td>\n",
       "      <td>1_1session_end</td>\n",
       "      <td>session_end</td>\n",
       "      <td>3</td>\n",
       "      <td>1_1</td>\n",
       "    </tr>\n",
       "    <tr>\n",
       "      <th>3216426</th>\n",
       "      <td>32815</td>\n",
       "      <td>2018-03-21 12:17:40</td>\n",
       "      <td>session_start</td>\n",
       "      <td>7</td>\n",
       "      <td>2018-03-21</td>\n",
       "      <td>theory</td>\n",
       "      <td>7_1session_start</td>\n",
       "      <td>session_start</td>\n",
       "      <td>1</td>\n",
       "      <td>7_1</td>\n",
       "    </tr>\n",
       "  </tbody>\n",
       "</table>\n",
       "</div>"
      ],
      "text/plain": [
       "         step_id           timestamp               action  user_id       date  \\\n",
       "1347416    31981 2016-09-02 14:44:24        session_start        1 2016-09-02   \n",
       "1347416    31981 2016-09-02 14:44:24      viewed_practise        1 2016-09-02   \n",
       "1347417    31981 2016-09-02 14:44:24  discovered_practise        1 2016-09-02   \n",
       "1347417    31981 2016-09-02 14:44:24          session_end        1 2016-09-02   \n",
       "3216426    32815 2018-03-21 12:17:40        session_start        7 2018-03-21   \n",
       "\n",
       "        step_status          event_id     event_type  event_type_index  \\\n",
       "1347416    practise  1_1session_start  session_start                 1   \n",
       "1347416    practise                 0            raw                 2   \n",
       "1347417    practise                 1            raw                 2   \n",
       "1347417    practise    1_1session_end    session_end                 3   \n",
       "3216426      theory  7_1session_start  session_start                 1   \n",
       "\n",
       "        session_id  \n",
       "1347416        1_1  \n",
       "1347416        1_1  \n",
       "1347417        1_1  \n",
       "1347417        1_1  \n",
       "3216426        7_1  "
      ]
     },
     "execution_count": 37,
     "metadata": {},
     "output_type": "execute_result"
    }
   ],
   "source": [
    "# Теперь каждое дейтсивие будет относиться к сессии\n",
    "one_day_users_events.to_dataframe().head()"
   ]
  },
  {
   "cell_type": "code",
   "execution_count": 38,
   "metadata": {},
   "outputs": [],
   "source": [
    "step_matrix = StepMatrix(one_day_users_events)"
   ]
  },
  {
   "cell_type": "code",
   "execution_count": 41,
   "metadata": {},
   "outputs": [
    {
     "data": {
      "image/png": "[encoded data removed]",
      "text/plain": [
       "<Figure size 1000x520 with 3 Axes>"
      ]
     },
     "metadata": {},
     "output_type": "display_data"
    }
   ],
   "source": [
    "step_matrix.plot(\n",
    "    max_steps=15, \n",
    "    threshold=0.05, \n",
    "    weight_col='user_id',\n",
    "    target_events=['viewed_practise', 'passed_practise']\n",
    ")"
   ]
  },
  {
   "cell_type": "markdown",
   "metadata": {},
   "source": [
    "Для более точного изучения последовательности действий необходимо отобразить диаграмму потока"
   ]
  },
  {
   "cell_type": "code",
   "execution_count": 42,
   "metadata": {},
   "outputs": [
    {
     "data": {
      "application/vnd.plotly.v1+json": {
       "config": {
        "plotlyServerURL": "https://plot.ly"
       },
       "data": [
        {
         "link": {
          "hovertemplate": "Step from %{source.label}<br />to %{target.label}<br />made %{value} users",
          "source": {
           "bdata": "AAAAAAAAAwMDAwQEBAUFAQEBAQEBAgICBgYGCQkJCQkJCQ0NDQ0ICAgHBwcHBwwMDAwICAgICAgKCgoKCgoKCwsLCw4PDw8PDw8PExMTExMTExQUFBQUFBQSEREREREREREREBAQEBAQEBAQFRUVFRUVFRoYGBgYGBgYGRkZGRgYGBgYGBYWFhYWFhYbGxsbGx0YGBgYGBgYGBgXFxcXFxcXFxwcHBwcHBwkICAgICAgICMjIyMjIyMgICAgIB4eHh4eISEhISEhISAgICAgICAgICAfHx8fHx8fHyIiIiIiIiIrJycnJycnJycnKCgoKCgoKCcnJycnJyUlJSUpKSkpKSkpJycnJycnJycnJyYmJiYmJiYmJioqKioqKio=",
           "dtype": "i1"
          },
          "target": {
           "bdata": "AwQFAQIGDAgKCw0MCw0LCQgHCAgKCQ0IDQwLDxMUEhEQFQ8TFBUPExAPFBIQFQ8TFBUODxQSERAPExQSERAVExQSFRoYGRYbHRccGBkbHRgXHBgZGx0YFxwaGBkYFhsdGBccGBkYFhsdGBccGBkbHRgXHCQgIyAgIB8iICEgIiAgHiAgHyAjISAgHyIgIyAfIiQgIyAeISAgHyIgIyAhICAfIiAjISAgHyIrJygpJycmKicoKScnJionJyUnJycpJycmJygpJycmKisnKCclKScnJionKCcpJycmKicoKScnJioyLzExLDEtMTAuLzExLTEwLjEsLTEwLi0xMC4vMTEtMTAuMi8xMSwxLTEwLi8xMSwxLTEwLi8xMS0xMC4=",
           "dtype": "i1"
          },
          "value": {
           "bdata": "uwMtCPkKZACrA/wKAQA/AHoDAQABABsEEQQxB8gDGgAKABEAAwAEACgAdQMBADUA9wYDBAIADgAQABEA+AEUAUcADQABAAEA9wYxBwMAAQAGAAMAAQABAAgABAABAAEEAgAbBAMANQABAAEAAgA/ADoACgAUAPgBDAE3AA8AygMQBAEAAQADAAIAAwABAAEATAAwAAIAHwD5AE0BkwMNACIAwAEtAHAB7AEZBRMAOQBCAvMDCQAHACYALQALAHYBBAAzAAcALAABAAEAAQACAHkACQAUAAQANgBXAd0BVgUTADEAaQL2AwEAAQABAAsADwCZAAMAAQDkAQQA4gEBAA8ABQAKAAMABQAHAAMABQAOAAMACQAGAAEAQAMDAAMA3QE9EA0ABQABAAMADAAEAAYACgAKAJYAAQAEAAMALwAaABsAAQAEAGED9QGkAAkABABtADMUDAAEAAkAHQBCACoAEAADAAQAOwMOAAUACQBNAwEACwACAAYAAQADAAEAAQABAAIABADtAQIADgADAAgA4QH6ABIABgAFAAcABgAFAAIADgAGACwACQABAAkAOgA2ABEAEwADAAIC8QEdAAYACwAcAC0VBgADAAQAAgACAAoACwAwAAIA1QA7AHkAfgA1AOYA5AAGAAQAAQADAAIAAQACAAEABQABAEIBeQBaAJkAYwBBAfUAnAAKAAYACgAhAAsAGQAGABAAFQApAAEAAQAEAAMADwAOABAACAAjAXcAjQDAAF8AJAEJAQ==",
           "dtype": "i2"
          }
         },
         "node": {
          "color": [
           "rgb(80,190,151)",
           "rgb(76,114,176)",
           "rgb(62,80,102)",
           "rgb(228,101,92)",
           "rgb(252,200,101)",
           "rgb(191,214,222)",
           "rgb(53,58,62)",
           "rgb(230,230,230)",
           "rgb(221,132,82)",
           "rgb(228,101,92)",
           "rgb(62,80,102)",
           "rgb(53,58,62)",
           "rgb(191,214,222)",
           "rgb(252,200,101)",
           "rgb(109,76,65)",
           "rgb(76,114,176)",
           "rgb(62,80,102)",
           "rgb(77,182,172)",
           "rgb(255,213,79)",
           "rgb(252,200,101)",
           "rgb(191,214,222)",
           "rgb(53,58,62)",
           "rgb(230,230,230)",
           "rgb(62,80,102)",
           "rgb(221,132,82)",
           "rgb(252,200,101)",
           "rgb(109,76,65)",
           "rgb(191,214,222)",
           "rgb(53,58,62)",
           "rgb(255,213,79)",
           "rgb(230,230,230)",
           "rgb(62,80,102)",
           "rgb(85,168,104)",
           "rgb(191,214,222)",
           "rgb(53,58,62)",
           "rgb(252,200,101)",
           "rgb(109,76,65)",
           "rgb(230,230,230)",
           "rgb(62,80,102)",
           "rgb(85,168,104)",
           "rgb(252,200,101)",
           "rgb(191,214,222)",
           "rgb(53,58,62)",
           "rgb(109,76,65)",
           "rgb(230,230,230)",
           "rgb(255,213,79)",
           "rgb(53,58,62)",
           "rgb(228,101,92)",
           "rgb(62,80,102)",
           "rgb(85,168,104)",
           "rgb(109,76,65)"
          ],
          "customdata": [
           "session_start 9708 (100.0% of total)",
           "thresholded_1 100 (1.0% of total)",
           "viewed_practise 939 (9.7% of total)",
           "discovered_practise 955 (9.8% of total)",
           "discovered_theory 2093 (21.6% of total)",
           "passed_theory 2809 (28.9% of total)",
           "viewed_theory 2812 (29.0% of total)",
           "passed_practise 17 (0.2% of total)",
           "thresholded_3 133 (1.4% of total)",
           "discovered_practise 911 (9.4% of total)",
           "viewed_practise 930 (9.6% of total)",
           "viewed_theory 2012 (20.7% of total)",
           "passed_theory 2079 (21.4% of total)",
           "discovered_theory 3626 (37.4% of total)",
           "ENDED 3 (0.0% of total)",
           "thresholded_1 133 (1.4% of total)",
           "viewed_practise 203 (2.1% of total)",
           "started_attempt_practise 546 (5.6% of total)",
           "session_end 1011 (10.4% of total)",
           "discovered_theory 2023 (20.8% of total)",
           "passed_theory 2864 (29.5% of total)",
           "viewed_theory 2925 (30.1% of total)",
           "passed_practise 47 (0.5% of total)",
           "viewed_practise 259 (2.7% of total)",
           "thresholded_3 288 (3.0% of total)",
           "discovered_theory 971 (10.0% of total)",
           "ENDED 1014 (10.4% of total)",
           "passed_theory 1316 (13.6% of total)",
           "viewed_theory 1656 (17.1% of total)",
           "session_end 4157 (42.8% of total)",
           "passed_practise 8 (0.1% of total)",
           "viewed_practise 211 (2.2% of total)",
           "thresholded_4 518 (5.3% of total)",
           "passed_theory 1005 (10.4% of total)",
           "viewed_theory 1088 (11.2% of total)",
           "discovered_theory 1707 (17.6% of total)",
           "ENDED 5171 (53.3% of total)",
           "passed_practise 9 (0.1% of total)",
           "viewed_practise 103 (1.1% of total)",
           "thresholded_4 399 (4.1% of total)",
           "discovered_theory 1030 (10.6% of total)",
           "passed_theory 1351 (13.9% of total)",
           "viewed_theory 1395 (14.4% of total)",
           "ENDED 5421 (55.8% of total)",
           "passed_practise 43 (0.4% of total)",
           "session_end 524 (5.4% of total)",
           "viewed_theory 771 (7.9% of total)",
           "discovered_practise 883 (9.1% of total)",
           "viewed_practise 930 (9.6% of total)",
           "thresholded_4 980 (10.1% of total)",
           "ENDED 5577 (57.4% of total)"
          ],
          "hovertemplate": "%{customdata}",
          "label": [
           "1session_start",
           "2thresholded_1",
           "2viewed_practise",
           "2discovered_practise",
           "2discovered_theory",
           "2passed_theory",
           "2viewed_theory",
           "3passed_practise",
           "3thresholded_3",
           "3discovered_practise",
           "3viewed_practise",
           "3viewed_theory",
           "3passed_theory",
           "3discovered_theory",
           "4ENDED",
           "4thresholded_1",
           "4viewed_practise",
           "4started_attempt_practise",
           "4session_end",
           "4discovered_theory",
           "4passed_theory",
           "4viewed_theory",
           "5passed_practise",
           "5viewed_practise",
           "5thresholded_3",
           "5discovered_theory",
           "5ENDED",
           "5passed_theory",
           "5viewed_theory",
           "5session_end",
           "6passed_practise",
           "6viewed_practise",
           "6thresholded_4",
           "6passed_theory",
           "6viewed_theory",
           "6discovered_theory",
           "6ENDED",
           "7passed_practise",
           "7viewed_practise",
           "7thresholded_4",
           "7discovered_theory",
           "7passed_theory",
           "7viewed_theory",
           "7ENDED",
           "8passed_practise",
           "8session_end",
           "8viewed_theory",
           "8discovered_practise",
           "8viewed_practise",
           "8thresholded_4",
           "8ENDED"
          ],
          "line": {
           "color": "black",
           "width": 0.5
          },
          "pad": 15,
          "thickness": 20
         },
         "type": "sankey"
        }
       ],
       "layout": {
        "font": {
         "size": 10
        },
        "template": {
         "data": {
          "bar": [
           {
            "error_x": {
             "color": "#2a3f5f"
            },
            "error_y": {
             "color": "#2a3f5f"
            },
            "marker": {
             "line": {
              "color": "#E5ECF6",
              "width": 0.5
             },
             "pattern": {
              "fillmode": "overlay",
              "size": 10,
              "solidity": 0.2
             }
            },
            "type": "bar"
           }
          ],
          "barpolar": [
           {
            "marker": {
             "line": {
              "color": "#E5ECF6",
              "width": 0.5
             },
             "pattern": {
              "fillmode": "overlay",
              "size": 10,
              "solidity": 0.2
             }
            },
            "type": "barpolar"
           }
          ],
          "carpet": [
           {
            "aaxis": {
             "endlinecolor": "#2a3f5f",
             "gridcolor": "white",
             "linecolor": "white",
             "minorgridcolor": "white",
             "startlinecolor": "#2a3f5f"
            },
            "baxis": {
             "endlinecolor": "#2a3f5f",
             "gridcolor": "white",
             "linecolor": "white",
             "minorgridcolor": "white",
             "startlinecolor": "#2a3f5f"
            },
            "type": "carpet"
           }
          ],
          "choropleth": [
           {
            "colorbar": {
             "outlinewidth": 0,
             "ticks": ""
            },
            "type": "choropleth"
           }
          ],
          "contour": [
           {
            "colorbar": {
             "outlinewidth": 0,
             "ticks": ""
            },
            "colorscale": [
             [
              0,
              "#0d0887"
             ],
             [
              0.1111111111111111,
              "#46039f"
             ],
             [
              0.2222222222222222,
              "#7201a8"
             ],
             [
              0.3333333333333333,
              "#9c179e"
             ],
             [
              0.4444444444444444,
              "#bd3786"
             ],
             [
              0.5555555555555556,
              "#d8576b"
             ],
             [
              0.6666666666666666,
              "#ed7953"
             ],
             [
              0.7777777777777778,
              "#fb9f3a"
             ],
             [
              0.8888888888888888,
              "#fdca26"
             ],
             [
              1,
              "#f0f921"
             ]
            ],
            "type": "contour"
           }
          ],
          "contourcarpet": [
           {
            "colorbar": {
             "outlinewidth": 0,
             "ticks": ""
            },
            "type": "contourcarpet"
           }
          ],
          "heatmap": [
           {
            "colorbar": {
             "outlinewidth": 0,
             "ticks": ""
            },
            "colorscale": [
             [
              0,
              "#0d0887"
             ],
             [
              0.1111111111111111,
              "#46039f"
             ],
             [
              0.2222222222222222,
              "#7201a8"
             ],
             [
              0.3333333333333333,
              "#9c179e"
             ],
             [
              0.4444444444444444,
              "#bd3786"
             ],
             [
              0.5555555555555556,
              "#d8576b"
             ],
             [
              0.6666666666666666,
              "#ed7953"
             ],
             [
              0.7777777777777778,
              "#fb9f3a"
             ],
             [
              0.8888888888888888,
              "#fdca26"
             ],
             [
              1,
              "#f0f921"
             ]
            ],
            "type": "heatmap"
           }
          ],
          "histogram": [
           {
            "marker": {
             "pattern": {
              "fillmode": "overlay",
              "size": 10,
              "solidity": 0.2
             }
            },
            "type": "histogram"
           }
          ],
          "histogram2d": [
           {
            "colorbar": {
             "outlinewidth": 0,
             "ticks": ""
            },
            "colorscale": [
             [
              0,
              "#0d0887"
             ],
             [
              0.1111111111111111,
              "#46039f"
             ],
             [
              0.2222222222222222,
              "#7201a8"
             ],
             [
              0.3333333333333333,
              "#9c179e"
             ],
             [
              0.4444444444444444,
              "#bd3786"
             ],
             [
              0.5555555555555556,
              "#d8576b"
             ],
             [
              0.6666666666666666,
              "#ed7953"
             ],
             [
              0.7777777777777778,
              "#fb9f3a"
             ],
             [
              0.8888888888888888,
              "#fdca26"
             ],
             [
              1,
              "#f0f921"
             ]
            ],
            "type": "histogram2d"
           }
          ],
          "histogram2dcontour": [
           {
            "colorbar": {
             "outlinewidth": 0,
             "ticks": ""
            },
            "colorscale": [
             [
              0,
              "#0d0887"
             ],
             [
              0.1111111111111111,
              "#46039f"
             ],
             [
              0.2222222222222222,
              "#7201a8"
             ],
             [
              0.3333333333333333,
              "#9c179e"
             ],
             [
              0.4444444444444444,
              "#bd3786"
             ],
             [
              0.5555555555555556,
              "#d8576b"
             ],
             [
              0.6666666666666666,
              "#ed7953"
             ],
             [
              0.7777777777777778,
              "#fb9f3a"
             ],
             [
              0.8888888888888888,
              "#fdca26"
             ],
             [
              1,
              "#f0f921"
             ]
            ],
            "type": "histogram2dcontour"
           }
          ],
          "mesh3d": [
           {
            "colorbar": {
             "outlinewidth": 0,
             "ticks": ""
            },
            "type": "mesh3d"
           }
          ],
          "parcoords": [
           {
            "line": {
             "colorbar": {
              "outlinewidth": 0,
              "ticks": ""
             }
            },
            "type": "parcoords"
           }
          ],
          "pie": [
           {
            "automargin": true,
            "type": "pie"
           }
          ],
          "scatter": [
           {
            "fillpattern": {
             "fillmode": "overlay",
             "size": 10,
             "solidity": 0.2
            },
            "type": "scatter"
           }
          ],
          "scatter3d": [
           {
            "line": {
             "colorbar": {
              "outlinewidth": 0,
              "ticks": ""
             }
            },
            "marker": {
             "colorbar": {
              "outlinewidth": 0,
              "ticks": ""
             }
            },
            "type": "scatter3d"
           }
          ],
          "scattercarpet": [
           {
            "marker": {
             "colorbar": {
              "outlinewidth": 0,
              "ticks": ""
             }
            },
            "type": "scattercarpet"
           }
          ],
          "scattergeo": [
           {
            "marker": {
             "colorbar": {
              "outlinewidth": 0,
              "ticks": ""
             }
            },
            "type": "scattergeo"
           }
          ],
          "scattergl": [
           {
            "marker": {
             "colorbar": {
              "outlinewidth": 0,
              "ticks": ""
             }
            },
            "type": "scattergl"
           }
          ],
          "scattermap": [
           {
            "marker": {
             "colorbar": {
              "outlinewidth": 0,
              "ticks": ""
             }
            },
            "type": "scattermap"
           }
          ],
          "scattermapbox": [
           {
            "marker": {
             "colorbar": {
              "outlinewidth": 0,
              "ticks": ""
             }
            },
            "type": "scattermapbox"
           }
          ],
          "scatterpolar": [
           {
            "marker": {
             "colorbar": {
              "outlinewidth": 0,
              "ticks": ""
             }
            },
            "type": "scatterpolar"
           }
          ],
          "scatterpolargl": [
           {
            "marker": {
             "colorbar": {
              "outlinewidth": 0,
              "ticks": ""
             }
            },
            "type": "scatterpolargl"
           }
          ],
          "scatterternary": [
           {
            "marker": {
             "colorbar": {
              "outlinewidth": 0,
              "ticks": ""
             }
            },
            "type": "scatterternary"
           }
          ],
          "surface": [
           {
            "colorbar": {
             "outlinewidth": 0,
             "ticks": ""
            },
            "colorscale": [
             [
              0,
              "#0d0887"
             ],
             [
              0.1111111111111111,
              "#46039f"
             ],
             [
              0.2222222222222222,
              "#7201a8"
             ],
             [
              0.3333333333333333,
              "#9c179e"
             ],
             [
              0.4444444444444444,
              "#bd3786"
             ],
             [
              0.5555555555555556,
              "#d8576b"
             ],
             [
              0.6666666666666666,
              "#ed7953"
             ],
             [
              0.7777777777777778,
              "#fb9f3a"
             ],
             [
              0.8888888888888888,
              "#fdca26"
             ],
             [
              1,
              "#f0f921"
             ]
            ],
            "type": "surface"
           }
          ],
          "table": [
           {
            "cells": {
             "fill": {
              "color": "#EBF0F8"
             },
             "line": {
              "color": "white"
             }
            },
            "header": {
             "fill": {
              "color": "#C8D4E3"
             },
             "line": {
              "color": "white"
             }
            },
            "type": "table"
           }
          ]
         },
         "layout": {
          "annotationdefaults": {
           "arrowcolor": "#2a3f5f",
           "arrowhead": 0,
           "arrowwidth": 1
          },
          "autotypenumbers": "strict",
          "coloraxis": {
           "colorbar": {
            "outlinewidth": 0,
            "ticks": ""
           }
          },
          "colorscale": {
           "diverging": [
            [
             0,
             "#8e0152"
            ],
            [
             0.1,
             "#c51b7d"
            ],
            [
             0.2,
             "#de77ae"
            ],
            [
             0.3,
             "#f1b6da"
            ],
            [
             0.4,
             "#fde0ef"
            ],
            [
             0.5,
             "#f7f7f7"
            ],
            [
             0.6,
             "#e6f5d0"
            ],
            [
             0.7,
             "#b8e186"
            ],
            [
             0.8,
             "#7fbc41"
            ],
            [
             0.9,
             "#4d9221"
            ],
            [
             1,
             "#276419"
            ]
           ],
           "sequential": [
            [
             0,
             "#0d0887"
            ],
            [
             0.1111111111111111,
             "#46039f"
            ],
            [
             0.2222222222222222,
             "#7201a8"
            ],
            [
             0.3333333333333333,
             "#9c179e"
            ],
            [
             0.4444444444444444,
             "#bd3786"
            ],
            [
             0.5555555555555556,
             "#d8576b"
            ],
            [
             0.6666666666666666,
             "#ed7953"
            ],
            [
             0.7777777777777778,
             "#fb9f3a"
            ],
            [
             0.8888888888888888,
             "#fdca26"
            ],
            [
             1,
             "#f0f921"
            ]
           ],
           "sequentialminus": [
            [
             0,
             "#0d0887"
            ],
            [
             0.1111111111111111,
             "#46039f"
            ],
            [
             0.2222222222222222,
             "#7201a8"
            ],
            [
             0.3333333333333333,
             "#9c179e"
            ],
            [
             0.4444444444444444,
             "#bd3786"
            ],
            [
             0.5555555555555556,
             "#d8576b"
            ],
            [
             0.6666666666666666,
             "#ed7953"
            ],
            [
             0.7777777777777778,
             "#fb9f3a"
            ],
            [
             0.8888888888888888,
             "#fdca26"
            ],
            [
             1,
             "#f0f921"
            ]
           ]
          },
          "colorway": [
           "#636efa",
           "#EF553B",
           "#00cc96",
           "#ab63fa",
           "#FFA15A",
           "#19d3f3",
           "#FF6692",
           "#B6E880",
           "#FF97FF",
           "#FECB52"
          ],
          "font": {
           "color": "#2a3f5f"
          },
          "geo": {
           "bgcolor": "white",
           "lakecolor": "white",
           "landcolor": "#E5ECF6",
           "showlakes": true,
           "showland": true,
           "subunitcolor": "white"
          },
          "hoverlabel": {
           "align": "left"
          },
          "hovermode": "closest",
          "mapbox": {
           "style": "light"
          },
          "paper_bgcolor": "white",
          "plot_bgcolor": "#E5ECF6",
          "polar": {
           "angularaxis": {
            "gridcolor": "white",
            "linecolor": "white",
            "ticks": ""
           },
           "bgcolor": "#E5ECF6",
           "radialaxis": {
            "gridcolor": "white",
            "linecolor": "white",
            "ticks": ""
           }
          },
          "scene": {
           "xaxis": {
            "backgroundcolor": "#E5ECF6",
            "gridcolor": "white",
            "gridwidth": 2,
            "linecolor": "white",
            "showbackground": true,
            "ticks": "",
            "zerolinecolor": "white"
           },
           "yaxis": {
            "backgroundcolor": "#E5ECF6",
            "gridcolor": "white",
            "gridwidth": 2,
            "linecolor": "white",
            "showbackground": true,
            "ticks": "",
            "zerolinecolor": "white"
           },
           "zaxis": {
            "backgroundcolor": "#E5ECF6",
            "gridcolor": "white",
            "gridwidth": 2,
            "linecolor": "white",
            "showbackground": true,
            "ticks": "",
            "zerolinecolor": "white"
           }
          },
          "shapedefaults": {
           "line": {
            "color": "#2a3f5f"
           }
          },
          "ternary": {
           "aaxis": {
            "gridcolor": "white",
            "linecolor": "white",
            "ticks": ""
           },
           "baxis": {
            "gridcolor": "white",
            "linecolor": "white",
            "ticks": ""
           },
           "bgcolor": "#E5ECF6",
           "caxis": {
            "gridcolor": "white",
            "linecolor": "white",
            "ticks": ""
           }
          },
          "title": {
           "x": 0.05
          },
          "xaxis": {
           "automargin": true,
           "gridcolor": "white",
           "linecolor": "white",
           "ticks": "",
           "title": {
            "standoff": 15
           },
           "zerolinecolor": "white",
           "zerolinewidth": 2
          },
          "yaxis": {
           "automargin": true,
           "gridcolor": "white",
           "linecolor": "white",
           "ticks": "",
           "title": {
            "standoff": 15
           },
           "zerolinecolor": "white",
           "zerolinewidth": 2
          }
         }
        },
        "title": {
         "text": "StepSankey"
        }
       }
      }
     },
     "metadata": {},
     "output_type": "display_data"
    }
   ],
   "source": [
    "step_sankey = StepSankey(one_day_users_events)\n",
    "step_sankey.plot(\n",
    "    max_steps=8, \n",
    "    threshold=0.05, \n",
    "    weight_col='user_id',\n",
    "    events_to_keep=['viewed_practise', 'passed_practise']\n",
    ")"
   ]
  },
  {
   "cell_type": "markdown",
   "metadata": {},
   "source": [
    "Из анализа этих графиков можно сделать достаточно неожиданные выводы:\n",
    "* Почти половина пользователей уходит после третьего шага, успев решить 1-2 теоретических задания\n",
    "* Среди тех, кто сталкивается с практическим заданием только половина начинает его решать и только 10% от них его успешно решает, остальные покидают курс\n",
    "* Пользователей хватает еще на 3-4 степа, после чего они безвозвратно покидают курс, что важнее они продолжают выполнять задания успешно, но все равно уходят, что говорит не о сложности, а скорее об отсутствии мотивации продолжать"
   ]
  }
 ],
 "metadata": {
  "kernelspec": {
   "display_name": ".venv",
   "language": "python",
   "name": "python3"
  },
  "language_info": {
   "codemirror_mode": {
    "name": "ipython",
    "version": 3
   },
   "file_extension": ".py",
   "mimetype": "text/x-python",
   "name": "python",
   "nbconvert_exporter": "python",
   "pygments_lexer": "ipython3",
   "version": "3.12.1"
  }
 },
 "nbformat": 4,
 "nbformat_minor": 2
}
