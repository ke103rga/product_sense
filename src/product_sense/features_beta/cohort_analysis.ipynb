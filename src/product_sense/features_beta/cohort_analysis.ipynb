{
 "cells": [
  {
   "cell_type": "code",
   "execution_count": null,
   "metadata": {},
   "outputs": [],
   "source": [
    "import pandas as pd\n",
    "# from retentioneering import datasets\n",
    "from typing import Literal, Union, List, Optional, Iterable, get_args, Dict\n",
    "import numpy as np \n",
    "from sklearn.preprocessing import StandardScaler, OneHotEncoder\n",
    "from sklearn.compose import ColumnTransformer\n",
    "from sklearn.pipeline import Pipeline\n",
    "from sklearn.metrics import silhouette_score\n",
    "from sklearn.cluster import KMeans\n",
    "from sklearn.tree import DecisionTreeClassifier\n",
    "from sklearn import tree\n",
    "\n",
    "import matplotlib.pyplot as plt\n",
    "import seaborn as sns\n",
    "\n",
    "from abc import ABC, abstractmethod"
   ]
  },
  {
   "cell_type": "code",
   "execution_count": 1,
   "metadata": {},
   "outputs": [
    {
     "name": "stdout",
     "output_type": "stream",
     "text": [
      "D:\\pythonProg\\Python\\Python312\\python312.zip\n",
      "D:\\pythonProg\\Python\\Python312\\DLLs\n",
      "D:\\pythonProg\\Python\\Python312\\Lib\n",
      "D:\\pythonProg\\Python\\Python312\n",
      "d:\\diplom\\.venv\n",
      "\n",
      "d:\\diplom\\.venv\\Lib\\site-packages\n",
      "d:\\diplom\\.venv\\Lib\\site-packages\\win32\n",
      "d:\\diplom\\.venv\\Lib\\site-packages\\win32\\lib\n",
      "d:\\diplom\\.venv\\Lib\\site-packages\\Pythonwin\n",
      "d:\\diplom\\product\\insight_pulse\n"
     ]
    }
   ],
   "source": [
    "import sys\n",
    "\n",
    "sys.path.append('d:\\\\diplom\\\\product\\\\insight_pulse')\n",
    "\n",
    "for path in sys.path:\n",
    "    print(path)"
   ]
  },
  {
   "cell_type": "code",
   "execution_count": 3,
   "metadata": {},
   "outputs": [],
   "source": [
    "from eventframing.eventframe import EventFrame\n",
    "from eventframing.cols_schema import EventFrameColsSchema\n",
    "from eventframing.event_type import EventType\n",
    "\n",
    "from data_preprocessing.preprocessors_lib.add_start_end_events import AddStartEndEventsPreprocessor\n",
    "from data_preprocessing.preprocessors_lib.split_sessions import SplitSessionsPreprocessor"
   ]
  },
  {
   "cell_type": "code",
   "execution_count": null,
   "metadata": {},
   "outputs": [],
   "source": []
  }
 ],
 "metadata": {
  "kernelspec": {
   "display_name": ".venv",
   "language": "python",
   "name": "python3"
  },
  "language_info": {
   "codemirror_mode": {
    "name": "ipython",
    "version": 3
   },
   "file_extension": ".py",
   "mimetype": "text/x-python",
   "name": "python",
   "nbconvert_exporter": "python",
   "pygments_lexer": "ipython3",
   "version": "3.12.1"
  }
 },
 "nbformat": 4,
 "nbformat_minor": 2
}
