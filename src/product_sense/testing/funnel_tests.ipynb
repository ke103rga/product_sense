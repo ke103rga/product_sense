{
 "cells": [
  {
   "cell_type": "code",
   "execution_count": 1,
   "metadata": {},
   "outputs": [],
   "source": [
    "import pandas as pd\n",
    "import numpy as np\n",
    "# from retentioneering import datasets\n",
    "from typing import Literal, Union, List, Optional, Iterable, get_args, Dict, Tuple\n",
    "import numpy as np \n",
    "import datetime\n",
    "\n",
    "import matplotlib.pyplot as plt\n",
    "import seaborn as sns"
   ]
  },
  {
   "cell_type": "code",
   "execution_count": 2,
   "metadata": {},
   "outputs": [],
   "source": [
    "def generate_user_events_data(num_users=1000, num_events=10, num_cities=10, num_os=2, num_rows=5000, seed=42):\n",
    "    \"\"\"\n",
    "    Функция для генерации данных о событиях пользователей.\n",
    "    \"\"\"\n",
    "    # Устанавливаем seed для генератора случайных чисел\n",
    "    np.random.seed(seed)\n",
    "\n",
    "    # Создаем список пользователей\n",
    "    users = ['user' + str(i) for i in range(1, num_users+1)]\n",
    "\n",
    "    # Создаем список событий\n",
    "    events = ['event' + str(i) for i in range(1, num_events+1)]\n",
    "\n",
    "    # Создаем список дат\n",
    "    dates = [datetime.datetime.now() - datetime.timedelta(days=x) for x in range(180)]\n",
    "\n",
    "    # Создаем список городов\n",
    "    cities = ['city' + str(i) for i in range(1, num_cities+1)]\n",
    "\n",
    "    # Создаем список операционных систем\n",
    "    os = ['iOS', 'Android']\n",
    "\n",
    "    # Создаем DataFrame\n",
    "    df = pd.DataFrame({\n",
    "        'user_id': np.random.choice(users, num_rows),\n",
    "        'event': np.random.choice(events, num_rows),\n",
    "        'event_datetime': np.random.choice(dates, num_rows),\n",
    "        'city': np.random.choice(cities, num_rows),\n",
    "        'operation_system': np.random.choice(os, num_rows)\n",
    "    })\n",
    "\n",
    "    return df"
   ]
  },
  {
   "cell_type": "markdown",
   "metadata": {},
   "source": [
    "# Importing custom modules"
   ]
  },
  {
   "cell_type": "code",
   "execution_count": 3,
   "metadata": {},
   "outputs": [
    {
     "name": "stdout",
     "output_type": "stream",
     "text": [
      "D:\\pythonProg\\Python\\Python312\\python312.zip\n",
      "D:\\pythonProg\\Python\\Python312\\DLLs\n",
      "D:\\pythonProg\\Python\\Python312\\Lib\n",
      "D:\\pythonProg\\Python\\Python312\n",
      "d:\\diplom\\.venv\n",
      "\n",
      "d:\\diplom\\.venv\\Lib\\site-packages\n",
      "d:\\diplom\\.venv\\Lib\\site-packages\\win32\n",
      "d:\\diplom\\.venv\\Lib\\site-packages\\win32\\lib\n",
      "d:\\diplom\\.venv\\Lib\\site-packages\\Pythonwin\n",
      "d:\\diplom\\product\\insight_pulse\n"
     ]
    }
   ],
   "source": [
    "import sys\n",
    "\n",
    "sys.path.append('d:\\\\diplom\\\\product\\\\insight_pulse')\n",
    "\n",
    "for path in sys.path:\n",
    "    print(path)"
   ]
  },
  {
   "cell_type": "code",
   "execution_count": 4,
   "metadata": {},
   "outputs": [],
   "source": [
    "from eventframing.eventframe import EventFrame\n",
    "from eventframing.cols_schema import EventFrameColsSchema\n",
    "from eventframing.event_type import EventType\n",
    "\n",
    "from data_preprocessing.data_preprocessor import DataPreprocessor\n",
    "from data_preprocessing.preprocessors_lib.add_start_end_events import AddStartEndEventsPreprocessor\n",
    "from data_preprocessing.preprocessors_lib.split_sessions import SplitSessionsPreprocessor\n",
    "from data_preprocessing.preprocessors_lib.add_cohorts_preprocessor import AddCohortsPreprocessor\n",
    "\n",
    "from tooling.funnel.funnel import Funnel"
   ]
  },
  {
   "cell_type": "markdown",
   "metadata": {},
   "source": [
    "# Testing"
   ]
  },
  {
   "cell_type": "markdown",
   "metadata": {},
   "source": [
    "## Funnel test"
   ]
  },
  {
   "cell_type": "code",
   "execution_count": 5,
   "metadata": {},
   "outputs": [
    {
     "data": {
      "text/html": [
       "<div>\n",
       "<style scoped>\n",
       "    .dataframe tbody tr th:only-of-type {\n",
       "        vertical-align: middle;\n",
       "    }\n",
       "\n",
       "    .dataframe tbody tr th {\n",
       "        vertical-align: top;\n",
       "    }\n",
       "\n",
       "    .dataframe thead th {\n",
       "        text-align: right;\n",
       "    }\n",
       "</style>\n",
       "<table border=\"1\" class=\"dataframe\">\n",
       "  <thead>\n",
       "    <tr style=\"text-align: right;\">\n",
       "      <th></th>\n",
       "      <th>user_id</th>\n",
       "      <th>event</th>\n",
       "      <th>event_datetime</th>\n",
       "      <th>city</th>\n",
       "      <th>operation_system</th>\n",
       "      <th>event_id</th>\n",
       "      <th>event_type</th>\n",
       "      <th>event_type_index</th>\n",
       "    </tr>\n",
       "  </thead>\n",
       "  <tbody>\n",
       "    <tr>\n",
       "      <th>1357</th>\n",
       "      <td>user1</td>\n",
       "      <td>event2</td>\n",
       "      <td>2024-10-19 18:55:46.145574</td>\n",
       "      <td>city5</td>\n",
       "      <td>Android</td>\n",
       "      <td>1357</td>\n",
       "      <td>raw</td>\n",
       "      <td>2</td>\n",
       "    </tr>\n",
       "    <tr>\n",
       "      <th>4234</th>\n",
       "      <td>user1</td>\n",
       "      <td>event6</td>\n",
       "      <td>2024-10-21 18:55:46.145574</td>\n",
       "      <td>city5</td>\n",
       "      <td>Android</td>\n",
       "      <td>4234</td>\n",
       "      <td>raw</td>\n",
       "      <td>2</td>\n",
       "    </tr>\n",
       "    <tr>\n",
       "      <th>2760</th>\n",
       "      <td>user1</td>\n",
       "      <td>event2</td>\n",
       "      <td>2024-11-10 18:55:46.145574</td>\n",
       "      <td>city6</td>\n",
       "      <td>iOS</td>\n",
       "      <td>2760</td>\n",
       "      <td>raw</td>\n",
       "      <td>2</td>\n",
       "    </tr>\n",
       "    <tr>\n",
       "      <th>4934</th>\n",
       "      <td>user1</td>\n",
       "      <td>event9</td>\n",
       "      <td>2024-11-22 18:55:46.145574</td>\n",
       "      <td>city3</td>\n",
       "      <td>iOS</td>\n",
       "      <td>4934</td>\n",
       "      <td>raw</td>\n",
       "      <td>2</td>\n",
       "    </tr>\n",
       "    <tr>\n",
       "      <th>1049</th>\n",
       "      <td>user1</td>\n",
       "      <td>event10</td>\n",
       "      <td>2024-12-20 18:55:46.145574</td>\n",
       "      <td>city1</td>\n",
       "      <td>iOS</td>\n",
       "      <td>1049</td>\n",
       "      <td>raw</td>\n",
       "      <td>2</td>\n",
       "    </tr>\n",
       "  </tbody>\n",
       "</table>\n",
       "</div>"
      ],
      "text/plain": [
       "     user_id    event             event_datetime   city operation_system  \\\n",
       "1357   user1   event2 2024-10-19 18:55:46.145574  city5          Android   \n",
       "4234   user1   event6 2024-10-21 18:55:46.145574  city5          Android   \n",
       "2760   user1   event2 2024-11-10 18:55:46.145574  city6              iOS   \n",
       "4934   user1   event9 2024-11-22 18:55:46.145574  city3              iOS   \n",
       "1049   user1  event10 2024-12-20 18:55:46.145574  city1              iOS   \n",
       "\n",
       "      event_id event_type  event_type_index  \n",
       "1357      1357        raw                 2  \n",
       "4234      4234        raw                 2  \n",
       "2760      2760        raw                 2  \n",
       "4934      4934        raw                 2  \n",
       "1049      1049        raw                 2  "
      ]
     },
     "execution_count": 5,
     "metadata": {},
     "output_type": "execute_result"
    }
   ],
   "source": [
    "data = generate_user_events_data(num_rows=5000)\n",
    "cols_schema = {'user_id': 'user_id', 'event_timestamp': 'event_datetime', 'event_name': 'event'}\n",
    "ef = EventFrame(data, cols_schema)\n",
    "ef.to_dataframe().head()\n"
   ]
  },
  {
   "cell_type": "code",
   "execution_count": 6,
   "metadata": {},
   "outputs": [],
   "source": [
    "funnel = Funnel()"
   ]
  },
  {
   "cell_type": "code",
   "execution_count": 18,
   "metadata": {},
   "outputs": [],
   "source": [
    "users = data['user_id'].unique()\n",
    "n_users = users.shape[0]\n",
    "ef_data = ef.to_dataframe()\n",
    "\n",
    "segments = [\n",
    "    ef_data[ef_data['user_id'].isin(users[:n_users//2 + 10])].index,\n",
    "    ef_data[ef_data['user_id'].isin(users[n_users//2:])].index,\n",
    "    ef_data[ef_data['user_id'].isin(users[:n_users//2 + 10])].index,\n",
    "]\n"
   ]
  },
  {
   "cell_type": "code",
   "execution_count": 15,
   "metadata": {},
   "outputs": [
    {
     "data": {
      "text/plain": [
       "[Index([  16,  672, 2663,    0, 4526, 2513, 1093,  579, 4791, 3188,\n",
       "        ...\n",
       "        3420, 1038, 2735,  289, 1486, 3123,  759,  631, 3099, 4798],\n",
       "       dtype='int64', length=2917),\n",
       " Index([1357, 4234, 2760, 4934, 1049, 4511, 2839, 1585,  897, 3029,\n",
       "        ...\n",
       "        3605, 2003, 3425, 1408, 1333, 1837, 2164, 3787, 4465, 4627],\n",
       "       dtype='int64', length=2141)]"
      ]
     },
     "execution_count": 15,
     "metadata": {},
     "output_type": "execute_result"
    }
   ],
   "source": [
    "segments"
   ]
  },
  {
   "cell_type": "code",
   "execution_count": 19,
   "metadata": {},
   "outputs": [
    {
     "name": "stdout",
     "output_type": "stream",
     "text": [
      "event1\n",
      "event2__event5__even4\n",
      "event3\n",
      "event1\n",
      "event2__event5__even4\n",
      "event3\n",
      "event1\n",
      "event2__event5__even4\n",
      "event3\n"
     ]
    },
    {
     "data": {
      "text/html": [
       "<div>\n",
       "<style scoped>\n",
       "    .dataframe tbody tr th:only-of-type {\n",
       "        vertical-align: middle;\n",
       "    }\n",
       "\n",
       "    .dataframe tbody tr th {\n",
       "        vertical-align: top;\n",
       "    }\n",
       "\n",
       "    .dataframe thead th {\n",
       "        text-align: right;\n",
       "    }\n",
       "</style>\n",
       "<table border=\"1\" class=\"dataframe\">\n",
       "  <thead>\n",
       "    <tr style=\"text-align: right;\">\n",
       "      <th></th>\n",
       "      <th>stage</th>\n",
       "      <th>users_count</th>\n",
       "      <th>segment</th>\n",
       "    </tr>\n",
       "  </thead>\n",
       "  <tbody>\n",
       "    <tr>\n",
       "      <th>0</th>\n",
       "      <td>1</td>\n",
       "      <td>216</td>\n",
       "      <td>segment_0</td>\n",
       "    </tr>\n",
       "    <tr>\n",
       "      <th>1</th>\n",
       "      <td>2</td>\n",
       "      <td>96</td>\n",
       "      <td>segment_0</td>\n",
       "    </tr>\n",
       "    <tr>\n",
       "      <th>2</th>\n",
       "      <td>3</td>\n",
       "      <td>22</td>\n",
       "      <td>segment_0</td>\n",
       "    </tr>\n",
       "    <tr>\n",
       "      <th>0</th>\n",
       "      <td>1</td>\n",
       "      <td>184</td>\n",
       "      <td>segment_1</td>\n",
       "    </tr>\n",
       "    <tr>\n",
       "      <th>1</th>\n",
       "      <td>2</td>\n",
       "      <td>58</td>\n",
       "      <td>segment_1</td>\n",
       "    </tr>\n",
       "    <tr>\n",
       "      <th>2</th>\n",
       "      <td>3</td>\n",
       "      <td>15</td>\n",
       "      <td>segment_1</td>\n",
       "    </tr>\n",
       "    <tr>\n",
       "      <th>0</th>\n",
       "      <td>1</td>\n",
       "      <td>216</td>\n",
       "      <td>segment_2</td>\n",
       "    </tr>\n",
       "    <tr>\n",
       "      <th>1</th>\n",
       "      <td>2</td>\n",
       "      <td>96</td>\n",
       "      <td>segment_2</td>\n",
       "    </tr>\n",
       "    <tr>\n",
       "      <th>2</th>\n",
       "      <td>3</td>\n",
       "      <td>22</td>\n",
       "      <td>segment_2</td>\n",
       "    </tr>\n",
       "  </tbody>\n",
       "</table>\n",
       "</div>"
      ],
      "text/plain": [
       "  stage  users_count    segment\n",
       "0     1          216  segment_0\n",
       "1     2           96  segment_0\n",
       "2     3           22  segment_0\n",
       "0     1          184  segment_1\n",
       "1     2           58  segment_1\n",
       "2     3           15  segment_1\n",
       "0     1          216  segment_2\n",
       "1     2           96  segment_2\n",
       "2     3           22  segment_2"
      ]
     },
     "execution_count": 19,
     "metadata": {},
     "output_type": "execute_result"
    }
   ],
   "source": [
    "funnel.fit(\n",
    "    ef, \n",
    "    stages=[['event1'], ['event2', 'event5', 'even4'], ['event3']],\n",
    "    # stages=['event3'], \n",
    "    funnel_type='closed', inside_session=False, \n",
    "    stages_names=['1', '2', '3'],\n",
    "    segments=segments\n",
    ")"
   ]
  },
  {
   "cell_type": "code",
   "execution_count": 20,
   "metadata": {},
   "outputs": [
    {
     "data": {
      "application/vnd.plotly.v1+json": {
       "config": {
        "plotlyServerURL": "https://plot.ly"
       },
       "data": [
        {
         "name": "segment_0",
         "orientation": "h",
         "textinfo": "value+percent initial+percent previous",
         "type": "funnel",
         "x": {
          "bdata": "2ABgABYA",
          "dtype": "i2"
         },
         "y": [
          "1",
          "2",
          "3"
         ]
        },
        {
         "name": "segment_1",
         "orientation": "h",
         "textinfo": "value+percent initial+percent previous",
         "type": "funnel",
         "x": {
          "bdata": "uAA6AA8A",
          "dtype": "i2"
         },
         "y": [
          "1",
          "2",
          "3"
         ]
        },
        {
         "name": "segment_2",
         "orientation": "h",
         "textinfo": "value+percent initial+percent previous",
         "type": "funnel",
         "x": {
          "bdata": "2ABgABYA",
          "dtype": "i2"
         },
         "y": [
          "1",
          "2",
          "3"
         ]
        }
       ],
       "layout": {
        "template": {
         "data": {
          "bar": [
           {
            "error_x": {
             "color": "#2a3f5f"
            },
            "error_y": {
             "color": "#2a3f5f"
            },
            "marker": {
             "line": {
              "color": "#E5ECF6",
              "width": 0.5
             },
             "pattern": {
              "fillmode": "overlay",
              "size": 10,
              "solidity": 0.2
             }
            },
            "type": "bar"
           }
          ],
          "barpolar": [
           {
            "marker": {
             "line": {
              "color": "#E5ECF6",
              "width": 0.5
             },
             "pattern": {
              "fillmode": "overlay",
              "size": 10,
              "solidity": 0.2
             }
            },
            "type": "barpolar"
           }
          ],
          "carpet": [
           {
            "aaxis": {
             "endlinecolor": "#2a3f5f",
             "gridcolor": "white",
             "linecolor": "white",
             "minorgridcolor": "white",
             "startlinecolor": "#2a3f5f"
            },
            "baxis": {
             "endlinecolor": "#2a3f5f",
             "gridcolor": "white",
             "linecolor": "white",
             "minorgridcolor": "white",
             "startlinecolor": "#2a3f5f"
            },
            "type": "carpet"
           }
          ],
          "choropleth": [
           {
            "colorbar": {
             "outlinewidth": 0,
             "ticks": ""
            },
            "type": "choropleth"
           }
          ],
          "contour": [
           {
            "colorbar": {
             "outlinewidth": 0,
             "ticks": ""
            },
            "colorscale": [
             [
              0,
              "#0d0887"
             ],
             [
              0.1111111111111111,
              "#46039f"
             ],
             [
              0.2222222222222222,
              "#7201a8"
             ],
             [
              0.3333333333333333,
              "#9c179e"
             ],
             [
              0.4444444444444444,
              "#bd3786"
             ],
             [
              0.5555555555555556,
              "#d8576b"
             ],
             [
              0.6666666666666666,
              "#ed7953"
             ],
             [
              0.7777777777777778,
              "#fb9f3a"
             ],
             [
              0.8888888888888888,
              "#fdca26"
             ],
             [
              1,
              "#f0f921"
             ]
            ],
            "type": "contour"
           }
          ],
          "contourcarpet": [
           {
            "colorbar": {
             "outlinewidth": 0,
             "ticks": ""
            },
            "type": "contourcarpet"
           }
          ],
          "heatmap": [
           {
            "colorbar": {
             "outlinewidth": 0,
             "ticks": ""
            },
            "colorscale": [
             [
              0,
              "#0d0887"
             ],
             [
              0.1111111111111111,
              "#46039f"
             ],
             [
              0.2222222222222222,
              "#7201a8"
             ],
             [
              0.3333333333333333,
              "#9c179e"
             ],
             [
              0.4444444444444444,
              "#bd3786"
             ],
             [
              0.5555555555555556,
              "#d8576b"
             ],
             [
              0.6666666666666666,
              "#ed7953"
             ],
             [
              0.7777777777777778,
              "#fb9f3a"
             ],
             [
              0.8888888888888888,
              "#fdca26"
             ],
             [
              1,
              "#f0f921"
             ]
            ],
            "type": "heatmap"
           }
          ],
          "histogram": [
           {
            "marker": {
             "pattern": {
              "fillmode": "overlay",
              "size": 10,
              "solidity": 0.2
             }
            },
            "type": "histogram"
           }
          ],
          "histogram2d": [
           {
            "colorbar": {
             "outlinewidth": 0,
             "ticks": ""
            },
            "colorscale": [
             [
              0,
              "#0d0887"
             ],
             [
              0.1111111111111111,
              "#46039f"
             ],
             [
              0.2222222222222222,
              "#7201a8"
             ],
             [
              0.3333333333333333,
              "#9c179e"
             ],
             [
              0.4444444444444444,
              "#bd3786"
             ],
             [
              0.5555555555555556,
              "#d8576b"
             ],
             [
              0.6666666666666666,
              "#ed7953"
             ],
             [
              0.7777777777777778,
              "#fb9f3a"
             ],
             [
              0.8888888888888888,
              "#fdca26"
             ],
             [
              1,
              "#f0f921"
             ]
            ],
            "type": "histogram2d"
           }
          ],
          "histogram2dcontour": [
           {
            "colorbar": {
             "outlinewidth": 0,
             "ticks": ""
            },
            "colorscale": [
             [
              0,
              "#0d0887"
             ],
             [
              0.1111111111111111,
              "#46039f"
             ],
             [
              0.2222222222222222,
              "#7201a8"
             ],
             [
              0.3333333333333333,
              "#9c179e"
             ],
             [
              0.4444444444444444,
              "#bd3786"
             ],
             [
              0.5555555555555556,
              "#d8576b"
             ],
             [
              0.6666666666666666,
              "#ed7953"
             ],
             [
              0.7777777777777778,
              "#fb9f3a"
             ],
             [
              0.8888888888888888,
              "#fdca26"
             ],
             [
              1,
              "#f0f921"
             ]
            ],
            "type": "histogram2dcontour"
           }
          ],
          "mesh3d": [
           {
            "colorbar": {
             "outlinewidth": 0,
             "ticks": ""
            },
            "type": "mesh3d"
           }
          ],
          "parcoords": [
           {
            "line": {
             "colorbar": {
              "outlinewidth": 0,
              "ticks": ""
             }
            },
            "type": "parcoords"
           }
          ],
          "pie": [
           {
            "automargin": true,
            "type": "pie"
           }
          ],
          "scatter": [
           {
            "fillpattern": {
             "fillmode": "overlay",
             "size": 10,
             "solidity": 0.2
            },
            "type": "scatter"
           }
          ],
          "scatter3d": [
           {
            "line": {
             "colorbar": {
              "outlinewidth": 0,
              "ticks": ""
             }
            },
            "marker": {
             "colorbar": {
              "outlinewidth": 0,
              "ticks": ""
             }
            },
            "type": "scatter3d"
           }
          ],
          "scattercarpet": [
           {
            "marker": {
             "colorbar": {
              "outlinewidth": 0,
              "ticks": ""
             }
            },
            "type": "scattercarpet"
           }
          ],
          "scattergeo": [
           {
            "marker": {
             "colorbar": {
              "outlinewidth": 0,
              "ticks": ""
             }
            },
            "type": "scattergeo"
           }
          ],
          "scattergl": [
           {
            "marker": {
             "colorbar": {
              "outlinewidth": 0,
              "ticks": ""
             }
            },
            "type": "scattergl"
           }
          ],
          "scattermap": [
           {
            "marker": {
             "colorbar": {
              "outlinewidth": 0,
              "ticks": ""
             }
            },
            "type": "scattermap"
           }
          ],
          "scattermapbox": [
           {
            "marker": {
             "colorbar": {
              "outlinewidth": 0,
              "ticks": ""
             }
            },
            "type": "scattermapbox"
           }
          ],
          "scatterpolar": [
           {
            "marker": {
             "colorbar": {
              "outlinewidth": 0,
              "ticks": ""
             }
            },
            "type": "scatterpolar"
           }
          ],
          "scatterpolargl": [
           {
            "marker": {
             "colorbar": {
              "outlinewidth": 0,
              "ticks": ""
             }
            },
            "type": "scatterpolargl"
           }
          ],
          "scatterternary": [
           {
            "marker": {
             "colorbar": {
              "outlinewidth": 0,
              "ticks": ""
             }
            },
            "type": "scatterternary"
           }
          ],
          "surface": [
           {
            "colorbar": {
             "outlinewidth": 0,
             "ticks": ""
            },
            "colorscale": [
             [
              0,
              "#0d0887"
             ],
             [
              0.1111111111111111,
              "#46039f"
             ],
             [
              0.2222222222222222,
              "#7201a8"
             ],
             [
              0.3333333333333333,
              "#9c179e"
             ],
             [
              0.4444444444444444,
              "#bd3786"
             ],
             [
              0.5555555555555556,
              "#d8576b"
             ],
             [
              0.6666666666666666,
              "#ed7953"
             ],
             [
              0.7777777777777778,
              "#fb9f3a"
             ],
             [
              0.8888888888888888,
              "#fdca26"
             ],
             [
              1,
              "#f0f921"
             ]
            ],
            "type": "surface"
           }
          ],
          "table": [
           {
            "cells": {
             "fill": {
              "color": "#EBF0F8"
             },
             "line": {
              "color": "white"
             }
            },
            "header": {
             "fill": {
              "color": "#C8D4E3"
             },
             "line": {
              "color": "white"
             }
            },
            "type": "table"
           }
          ]
         },
         "layout": {
          "annotationdefaults": {
           "arrowcolor": "#2a3f5f",
           "arrowhead": 0,
           "arrowwidth": 1
          },
          "autotypenumbers": "strict",
          "coloraxis": {
           "colorbar": {
            "outlinewidth": 0,
            "ticks": ""
           }
          },
          "colorscale": {
           "diverging": [
            [
             0,
             "#8e0152"
            ],
            [
             0.1,
             "#c51b7d"
            ],
            [
             0.2,
             "#de77ae"
            ],
            [
             0.3,
             "#f1b6da"
            ],
            [
             0.4,
             "#fde0ef"
            ],
            [
             0.5,
             "#f7f7f7"
            ],
            [
             0.6,
             "#e6f5d0"
            ],
            [
             0.7,
             "#b8e186"
            ],
            [
             0.8,
             "#7fbc41"
            ],
            [
             0.9,
             "#4d9221"
            ],
            [
             1,
             "#276419"
            ]
           ],
           "sequential": [
            [
             0,
             "#0d0887"
            ],
            [
             0.1111111111111111,
             "#46039f"
            ],
            [
             0.2222222222222222,
             "#7201a8"
            ],
            [
             0.3333333333333333,
             "#9c179e"
            ],
            [
             0.4444444444444444,
             "#bd3786"
            ],
            [
             0.5555555555555556,
             "#d8576b"
            ],
            [
             0.6666666666666666,
             "#ed7953"
            ],
            [
             0.7777777777777778,
             "#fb9f3a"
            ],
            [
             0.8888888888888888,
             "#fdca26"
            ],
            [
             1,
             "#f0f921"
            ]
           ],
           "sequentialminus": [
            [
             0,
             "#0d0887"
            ],
            [
             0.1111111111111111,
             "#46039f"
            ],
            [
             0.2222222222222222,
             "#7201a8"
            ],
            [
             0.3333333333333333,
             "#9c179e"
            ],
            [
             0.4444444444444444,
             "#bd3786"
            ],
            [
             0.5555555555555556,
             "#d8576b"
            ],
            [
             0.6666666666666666,
             "#ed7953"
            ],
            [
             0.7777777777777778,
             "#fb9f3a"
            ],
            [
             0.8888888888888888,
             "#fdca26"
            ],
            [
             1,
             "#f0f921"
            ]
           ]
          },
          "colorway": [
           "#636efa",
           "#EF553B",
           "#00cc96",
           "#ab63fa",
           "#FFA15A",
           "#19d3f3",
           "#FF6692",
           "#B6E880",
           "#FF97FF",
           "#FECB52"
          ],
          "font": {
           "color": "#2a3f5f"
          },
          "geo": {
           "bgcolor": "white",
           "lakecolor": "white",
           "landcolor": "#E5ECF6",
           "showlakes": true,
           "showland": true,
           "subunitcolor": "white"
          },
          "hoverlabel": {
           "align": "left"
          },
          "hovermode": "closest",
          "mapbox": {
           "style": "light"
          },
          "paper_bgcolor": "white",
          "plot_bgcolor": "#E5ECF6",
          "polar": {
           "angularaxis": {
            "gridcolor": "white",
            "linecolor": "white",
            "ticks": ""
           },
           "bgcolor": "#E5ECF6",
           "radialaxis": {
            "gridcolor": "white",
            "linecolor": "white",
            "ticks": ""
           }
          },
          "scene": {
           "xaxis": {
            "backgroundcolor": "#E5ECF6",
            "gridcolor": "white",
            "gridwidth": 2,
            "linecolor": "white",
            "showbackground": true,
            "ticks": "",
            "zerolinecolor": "white"
           },
           "yaxis": {
            "backgroundcolor": "#E5ECF6",
            "gridcolor": "white",
            "gridwidth": 2,
            "linecolor": "white",
            "showbackground": true,
            "ticks": "",
            "zerolinecolor": "white"
           },
           "zaxis": {
            "backgroundcolor": "#E5ECF6",
            "gridcolor": "white",
            "gridwidth": 2,
            "linecolor": "white",
            "showbackground": true,
            "ticks": "",
            "zerolinecolor": "white"
           }
          },
          "shapedefaults": {
           "line": {
            "color": "#2a3f5f"
           }
          },
          "ternary": {
           "aaxis": {
            "gridcolor": "white",
            "linecolor": "white",
            "ticks": ""
           },
           "baxis": {
            "gridcolor": "white",
            "linecolor": "white",
            "ticks": ""
           },
           "bgcolor": "#E5ECF6",
           "caxis": {
            "gridcolor": "white",
            "linecolor": "white",
            "ticks": ""
           }
          },
          "title": {
           "x": 0.05
          },
          "xaxis": {
           "automargin": true,
           "gridcolor": "white",
           "linecolor": "white",
           "ticks": "",
           "title": {
            "standoff": 15
           },
           "zerolinecolor": "white",
           "zerolinewidth": 2
          },
          "yaxis": {
           "automargin": true,
           "gridcolor": "white",
           "linecolor": "white",
           "ticks": "",
           "title": {
            "standoff": 15
           },
           "zerolinecolor": "white",
           "zerolinewidth": 2
          }
         }
        }
       }
      }
     },
     "metadata": {},
     "output_type": "display_data"
    }
   ],
   "source": [
    "funnel.plot()"
   ]
  },
  {
   "cell_type": "code",
   "execution_count": 21,
   "metadata": {},
   "outputs": [
    {
     "data": {
      "text/html": [
       "<div>\n",
       "<style scoped>\n",
       "    .dataframe tbody tr th:only-of-type {\n",
       "        vertical-align: middle;\n",
       "    }\n",
       "\n",
       "    .dataframe tbody tr th {\n",
       "        vertical-align: top;\n",
       "    }\n",
       "\n",
       "    .dataframe thead th {\n",
       "        text-align: right;\n",
       "    }\n",
       "</style>\n",
       "<table border=\"1\" class=\"dataframe\">\n",
       "  <thead>\n",
       "    <tr style=\"text-align: right;\">\n",
       "      <th></th>\n",
       "      <th></th>\n",
       "      <th>stage</th>\n",
       "      <th>users_count</th>\n",
       "      <th>percent_of_previous</th>\n",
       "      <th>percent_of_initial</th>\n",
       "    </tr>\n",
       "    <tr>\n",
       "      <th>segment</th>\n",
       "      <th></th>\n",
       "      <th></th>\n",
       "      <th></th>\n",
       "      <th></th>\n",
       "      <th></th>\n",
       "    </tr>\n",
       "  </thead>\n",
       "  <tbody>\n",
       "    <tr>\n",
       "      <th rowspan=\"3\" valign=\"top\">segment_0</th>\n",
       "      <th>0</th>\n",
       "      <td>1</td>\n",
       "      <td>216</td>\n",
       "      <td>100.000000</td>\n",
       "      <td>100.000000</td>\n",
       "    </tr>\n",
       "    <tr>\n",
       "      <th>1</th>\n",
       "      <td>2</td>\n",
       "      <td>96</td>\n",
       "      <td>44.444444</td>\n",
       "      <td>44.444444</td>\n",
       "    </tr>\n",
       "    <tr>\n",
       "      <th>2</th>\n",
       "      <td>3</td>\n",
       "      <td>22</td>\n",
       "      <td>22.916667</td>\n",
       "      <td>10.185185</td>\n",
       "    </tr>\n",
       "    <tr>\n",
       "      <th rowspan=\"3\" valign=\"top\">segment_1</th>\n",
       "      <th>0</th>\n",
       "      <td>1</td>\n",
       "      <td>184</td>\n",
       "      <td>100.000000</td>\n",
       "      <td>100.000000</td>\n",
       "    </tr>\n",
       "    <tr>\n",
       "      <th>1</th>\n",
       "      <td>2</td>\n",
       "      <td>58</td>\n",
       "      <td>31.521739</td>\n",
       "      <td>31.521739</td>\n",
       "    </tr>\n",
       "    <tr>\n",
       "      <th>2</th>\n",
       "      <td>3</td>\n",
       "      <td>15</td>\n",
       "      <td>25.862069</td>\n",
       "      <td>8.152174</td>\n",
       "    </tr>\n",
       "    <tr>\n",
       "      <th rowspan=\"3\" valign=\"top\">segment_2</th>\n",
       "      <th>0</th>\n",
       "      <td>1</td>\n",
       "      <td>216</td>\n",
       "      <td>100.000000</td>\n",
       "      <td>100.000000</td>\n",
       "    </tr>\n",
       "    <tr>\n",
       "      <th>1</th>\n",
       "      <td>2</td>\n",
       "      <td>96</td>\n",
       "      <td>44.444444</td>\n",
       "      <td>44.444444</td>\n",
       "    </tr>\n",
       "    <tr>\n",
       "      <th>2</th>\n",
       "      <td>3</td>\n",
       "      <td>22</td>\n",
       "      <td>22.916667</td>\n",
       "      <td>10.185185</td>\n",
       "    </tr>\n",
       "  </tbody>\n",
       "</table>\n",
       "</div>"
      ],
      "text/plain": [
       "            stage  users_count  percent_of_previous  percent_of_initial\n",
       "segment                                                                \n",
       "segment_0 0     1          216           100.000000          100.000000\n",
       "          1     2           96            44.444444           44.444444\n",
       "          2     3           22            22.916667           10.185185\n",
       "segment_1 0     1          184           100.000000          100.000000\n",
       "          1     2           58            31.521739           31.521739\n",
       "          2     3           15            25.862069            8.152174\n",
       "segment_2 0     1          216           100.000000          100.000000\n",
       "          1     2           96            44.444444           44.444444\n",
       "          2     3           22            22.916667           10.185185"
      ]
     },
     "execution_count": 21,
     "metadata": {},
     "output_type": "execute_result"
    }
   ],
   "source": [
    "funnel.values"
   ]
  },
  {
   "cell_type": "code",
   "execution_count": 11,
   "metadata": {},
   "outputs": [
    {
     "data": {
      "text/plain": [
       "array(['event8', 'event7', 'event6', 'event2__event5', 'event1', 'event9',\n",
       "       'event3', 'event10', 'event4'], dtype=object)"
      ]
     },
     "execution_count": 11,
     "metadata": {},
     "output_type": "execute_result"
    }
   ],
   "source": [
    "data = ef.data.copy()\n",
    "cols_schema = ef.cols_schema\n",
    "stages=['event1', ['event2', 'event5'], 'event3']\n",
    "# stages=['event1', 'event2', 'event3']\n",
    "stages_names = ['event1_name', 'event2_name', 'event3_name']\n",
    "\n",
    "\n",
    "def _collapse_stages(self, data: pd.DataFrame, cols_schema: EventFrameColsSchema,\n",
    "                    stages: List[Union[str, List[str]]], stages_names: Optional[List[str]]) -> pd.DataFrame:\n",
    "    new_stages = []\n",
    "    multiple_stages = []\n",
    "    new_stages_names = []\n",
    "\n",
    "    collapse_dict = dict()\n",
    "\n",
    "    for stage in stages:\n",
    "        if isinstance(stage, str):\n",
    "            new_stages.append(stage)\n",
    "            new_stages_names.append(stage)\n",
    "        else:\n",
    "            multiple_stages.append(stage)\n",
    "            new_stage_name = '__'.join(stage)\n",
    "            new_stages.append(new_stage_name)\n",
    "            new_stages_names.append(new_stage_name)\n",
    "            for sub_stage in stage:\n",
    "                collapse_dict[sub_stage] = new_stage_name\n",
    "    \n",
    "    if stages_names is None:\n",
    "        stages_names = new_stages_names\n",
    "\n",
    "    data_copy = data.copy()\n",
    "    event_col = cols_schema.event_name\n",
    "    data_copy[event_col] = data_copy[event_col].replace(collapse_dict)\n",
    "\n",
    "    return data_copy, new_stages, stages_names \n",
    "\n",
    "\n",
    "data_copy, new_stages, stages_names = _collapse_stages(data, data, cols_schema, stages, stages_names)\n",
    "data_copy.event.unique()\n",
    "# new_stages\n",
    "# stages_names"
   ]
  },
  {
   "cell_type": "code",
   "execution_count": 12,
   "metadata": {},
   "outputs": [
    {
     "data": {
      "text/plain": [
       "['event1', 'event2__event5', 'event3']"
      ]
     },
     "execution_count": 12,
     "metadata": {},
     "output_type": "execute_result"
    }
   ],
   "source": [
    "new_stages"
   ]
  },
  {
   "cell_type": "code",
   "execution_count": 13,
   "metadata": {},
   "outputs": [
    {
     "data": {
      "text/plain": [
       "['event1_name', 'event2_name', 'event3_name']"
      ]
     },
     "execution_count": 13,
     "metadata": {},
     "output_type": "execute_result"
    }
   ],
   "source": [
    "stages_names"
   ]
  }
 ],
 "metadata": {
  "kernelspec": {
   "display_name": ".venv",
   "language": "python",
   "name": "python3"
  },
  "language_info": {
   "codemirror_mode": {
    "name": "ipython",
    "version": 3
   },
   "file_extension": ".py",
   "mimetype": "text/x-python",
   "name": "python",
   "nbconvert_exporter": "python",
   "pygments_lexer": "ipython3",
   "version": "3.12.1"
  }
 },
 "nbformat": 4,
 "nbformat_minor": 2
}
